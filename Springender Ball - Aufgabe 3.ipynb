{
 "cells": [
  {
   "cell_type": "markdown",
   "metadata": {},
   "source": [
    "# Springender Ball: Aufgabe 3"
   ]
  },
  {
   "cell_type": "markdown",
   "metadata": {},
   "source": [
    "Technische Universität Berlin, Straße des 17. Juni 135, 10623 Berlin, Deutschland\n",
    "\n",
    "---\n",
    "\n",
    "**Andrii Fedoryshyn** (Kurs 348T)\n",
    "\n",
    "E-mail: andriifedoryshyn@campus.tu-berlin.de\n",
    "\n",
    "**Vasu Seghal** (Kurs 348T)\n",
    "\n",
    "E-mail: vasusehgal10611@gmail.com \n",
    "    \n",
    "**Neng Tang** (Kurs 348T)\n",
    "\n",
    "E-mail: nathantangneng@gmail.com\n",
    "\n",
    "**Allan A. Zea** (Kurs 348T)\n",
    "\n",
    "E-mail: zealobo@campus.tu-berlin.de\n",
    "\n",
    "---"
   ]
  },
  {
   "cell_type": "markdown",
   "metadata": {},
   "source": [
    "### Sehr einfaches Modell (Störungsrechnung)\n",
    "\n",
    "Wir nehmen an, dass die Luftreibung nur eine *kleine Störung* der Bewegung darstellt. Dies\n",
    "ist bei kleinen (verglichen mit was?) Geschwindigkeiten eine sinnvolle Näherung\n",
    "(warum?). Aus der Überlegung „Energie = Kraft mal Weg“ ergibt sich:\n",
    "\n",
    "\\begin{aligned}\n",
    "    \\Delta E &= \\int_{\\textrm{Bahn}} F_W dx \\\\\n",
    "             &= \\int_{t=t_0}^{t=t_1}F_W(t)v(t)dt \\\\\n",
    "             &= \\frac{1}{2}\\rho_{\\textrm{Luft}}\\cdot A\\cdot C_W\\int_{t=t_0}^{t=t_1} v^3(t) dt\\\\\n",
    "             &= \\frac{1}{2}\\rho_{\\textrm{Luft}}\\cdot A\\cdot C_W\\cdot 2\\int_{v=v_0}^{v=0} v^3 dv\n",
    "\\end{aligned}"
   ]
  },
  {
   "cell_type": "markdown",
   "metadata": {},
   "source": [
    "\\begin{equation}\n",
    "    \\Delta E = \\frac{1}{2}m\\frac{v_0^4}{v_\\infty^2}= \\frac{1}{2}mv_0^2-\\frac{1}{2}mv_1^2\n",
    "    \\Rightarrow\\left(\\frac{v_1}{v_0}\\right)^2=1-\\left(\\frac{v_0}{v_\\infty}\\right)^2\n",
    "    \\Rightarrow\\left(\\frac{Dt_1}{Dt_0}\\right)^2=\\left(1-\\left(\\frac{g}{2v_\\infty^2}\\right)^2 Dt_0^2\\right)\n",
    "\\end{equation}\n",
    "\n",
    "---"
   ]
  },
  {
   "cell_type": "markdown",
   "metadata": {},
   "source": [
    "**Aufgabe (a).**  Bestimmen Sie für die Höhen $h_0/\\textrm{cm}=\\{1,3,10,30,100,300\\}$: $Dt_0$ und $(v_0/v_\\infty)^2$. Und mit $k=95\\%$: $Dt_1$, $v_1$ und $h_1$ für den TT-Ball und die gleich große Stahlkugel. Bewerten Sie die oben gemachten Näherungen. "
   ]
  },
  {
   "cell_type": "markdown",
   "metadata": {},
   "source": [
    "**Lösung.** \n",
    "\n",
    "\n",
    "---"
   ]
  }
 ],
 "metadata": {
  "kernelspec": {
   "display_name": "Python 3",
   "language": "python",
   "name": "python3"
  },
  "language_info": {
   "codemirror_mode": {
    "name": "ipython",
    "version": 3
   },
   "file_extension": ".py",
   "mimetype": "text/x-python",
   "name": "python",
   "nbconvert_exporter": "python",
   "pygments_lexer": "ipython3",
   "version": "3.7.5rc1"
  }
 },
 "nbformat": 4,
 "nbformat_minor": 4
}
