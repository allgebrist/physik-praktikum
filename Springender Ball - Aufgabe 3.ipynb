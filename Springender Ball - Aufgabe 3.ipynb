{
 "cells": [
  {
   "cell_type": "markdown",
   "metadata": {},
   "source": [
    "# Springender Ball: Aufgabe 3"
   ]
  },
  {
   "cell_type": "markdown",
   "metadata": {},
   "source": [
    "Technische Universität Berlin, Straße des 17. Juni 135, 10623 Berlin, Deutschland\n",
    "\n",
    "---\n",
    "\n",
    "**Andrii Fedoryshyn** (Kurs 348T)\n",
    "\n",
    "E-mail: andriifedoryshyn@campus.tu-berlin.de\n",
    "\n",
    "**Vasu Seghal** (Kurs 348T)\n",
    "\n",
    "E-mail: vasusehgal10611@gmail.com \n",
    "    \n",
    "**Neng Tang** (Kurs 348T)\n",
    "\n",
    "E-mail: nathantangneng@gmail.com\n",
    "\n",
    "**Allan A. Zea** (Kurs 348T)\n",
    "\n",
    "E-mail: zealobo@campus.tu-berlin.de\n",
    "\n",
    "---"
   ]
  },
  {
   "cell_type": "markdown",
   "metadata": {},
   "source": [
    "### Sehr einfaches Modell (Störungsrechnung)\n",
    "\n",
    "Wir nehmen an, dass die Luftreibung nur eine *kleine Störung* der Bewegung darstellt. Dies\n",
    "ist bei kleinen (verglichen mit was?) Geschwindigkeiten eine sinnvolle Näherung\n",
    "(warum?). Aus der Überlegung „Energie = Kraft mal Weg“ ergibt sich:\n",
    "\n",
    "\\begin{aligned}\n",
    "    \\Delta E &= \\int_{\\textrm{Bahn}} F_W dx \\\\\n",
    "             &= \\int_{t=t_0}^{t=t_1}F_W(t)v(t)dt \\\\\n",
    "             &= \\frac{1}{2}\\rho_{\\textrm{Luft}}\\cdot A\\cdot C_W\\int_{t=t_0}^{t=t_1} v^3(t) dt\\\\\n",
    "             &= \\frac{1}{2}\\rho_{\\textrm{Luft}}\\cdot A\\cdot C_W\\cdot 2\\int_{v=v_0}^{v=0} v^3 dv\n",
    "\\end{aligned}"
   ]
  },
  {
   "cell_type": "markdown",
   "metadata": {},
   "source": [
    "\\begin{equation}\n",
    "    \\Delta E = \\frac{1}{2}m\\frac{v_0^4}{v_\\infty^2}= \\frac{1}{2}mv_0^2-\\frac{1}{2}mv_1^2\n",
    "    \\Rightarrow\\left(\\frac{v_1}{v_0}\\right)^2=1-\\left(\\frac{v_0}{v_\\infty}\\right)^2\n",
    "    \\Rightarrow\\left(\\frac{Dt_1}{Dt_0}\\right)^2=\\left(1-\\left(\\frac{g}{2v_\\infty^2}\\right)^2 Dt_0^2\\right)\n",
    "\\end{equation}\n",
    "\n",
    "---"
   ]
  },
  {
   "cell_type": "markdown",
   "metadata": {},
   "source": [
    "**Aufgabe (a).**  Bestimmen Sie für die Höhen $h_0/\\textrm{cm}=\\{1, 3, 10, 30, 100, 300\\}$: $Dt_0$ und $(v_0/v_\\infty)^2$. Und mit $k=95\\%$: $Dt_1$, $v_1$ und $h_1$ für den TT-Ball und die gleich große Stahlkugel. Bewerten Sie die oben gemachten Näherungen. "
   ]
  },
  {
   "cell_type": "markdown",
   "metadata": {},
   "source": [
    "**Lösung.** Relativ kleine Geschwindigkeiten sind mit $v_\\infty$ verglichen. Wir nehmen den Strömungwiderstandskoeffizienten $C_W\\approx 0,5$ der Kugel für unsere Berechnungen. Die Maximalgeschwindigkeit des TT-Balls $v_\\infty$ beträgt $8,1\\textrm{m/s}$. Wenn $h_0=3\\textrm{m}$ und $v_0=7,672\\textrm{m/s}$, ist die Geschwindigkeit im Vergleich zu $v_\\infty$ nicht klein und $k$ ist also kleiner als $0,95$. Bei der Stahlkugel ist $v_\\infty=79,3\\textrm{m/s}$. Wenn $h_0=3\\textrm{m}$ und $v_0=7,672\\textrm{m/s}$, ist die Geschwindigkeit auch relativ klein. Deshalb kann man annehmen, dass es nur eine kleine Störung gibt.\n",
    "\n",
    "Aus $h_0=30,5\\textrm{cm}\\approx 0,3\\textrm{m}$ bekommt man $h_1=27\\textrm{cm}>26\\textrm{cm}$ (Norm). Das heißt, $k$ soll bei $h_0$ kleiner als $0,95$ sein.\n",
    "\n",
    "\n",
    "\n",
    "| $h_0$    | $v_0$    | $Dt_0$   | $\\frac{v_0^2}{v_\\infty^2}$ | $k$     | $Dt_1$   | $v_1$    | $h_1$    | Stahl    | $\\frac{1}{2}\\frac{v_0}{v_\\infty}$ | $k$       |\n",
    "|------|-------|-------|-----------|-------|-------|-------|-------|----------|-----------|---------|\n",
    "| 0,01 | 0,443 | 0,090 | 0,003     | 0,999 | 0,086 | 0,421 | 0,009 | 3,12E-05 | 0,99998   | 0,99998 |\n",
    "| 0,03 | 0,767 | 0,156 | 0,009     | 0,996 | 0,149 | 0,729 | 0,027 | 9,36E-05 | 0,99995   | 0,99995 |\n",
    "| 0,1  | 1,401 | 0,286 | 0,030     | 0,985 | 0,271 | 1,331 | 0,090 | 3,12E-04 | 0,99984   | 0,99984 |\n",
    "| 0,3  | 2,426 | 0,495 | 0,090     | 0,954 | 0,470 | 2,305 | 0,271 | 9,36E-04 | 0,99953   | 0,99953 |\n",
    "| 1    | 4,429 | 0,903 | 0,299     | 0,837 | 0,858 | 4,208 | 0,903 | 3,12E-03 | 0,99844   | 0,99844 |\n",
    "| 3    | 7,672 | 1,564 | 0,897     | 0,321 | 1,486 | 7,288 | 2,708 | 9,36E-03 | 0,99531   | 0,99531 |\n",
    "\n",
    "---"
   ]
  }
 ],
 "metadata": {
  "kernelspec": {
   "display_name": "Python 3",
   "language": "python",
   "name": "python3"
  },
  "language_info": {
   "codemirror_mode": {
    "name": "ipython",
    "version": 3
   },
   "file_extension": ".py",
   "mimetype": "text/x-python",
   "name": "python",
   "nbconvert_exporter": "python",
   "pygments_lexer": "ipython3",
   "version": "3.7.5"
  }
 },
 "nbformat": 4,
 "nbformat_minor": 4
}
