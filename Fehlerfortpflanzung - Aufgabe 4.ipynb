{
 "cells": [
  {
   "cell_type": "markdown",
   "metadata": {},
   "source": [
    "# Batterietester für eine Autobatterie"
   ]
  },
  {
   "cell_type": "markdown",
   "metadata": {},
   "source": [
    "Technische Universität Berlin, Straße des 17. Juni 135, 10623 Berlin, Deutschland\n",
    "\n",
    "---\n",
    "\n",
    "**Clarissa Pinheiro** (Kurs 348T)\n",
    "\n",
    "E-mail: cvpinheiro13@gmail.com\n",
    "\n",
    "**Sofía Rodríguez** (Kurs 348T)\n",
    "\n",
    "E-mail: sofiaerb@hotmail.com\n",
    "\n",
    "**Vasu Seghal** (Kurs 348T)\n",
    "\n",
    "E-mail: vasusehgal10611@gmail.com \n",
    "\n",
    "**Allan A. Zea** (Kurs 348T)\n",
    "\n",
    "E-mail: zealobo@campus.tu-berlin.de\n",
    "\n",
    "---"
   ]
  },
  {
   "cell_type": "markdown",
   "metadata": {},
   "source": [
    "Eine Autobatterie hat eine Leerlaufspannung von $12~\\textrm{V}$. Ist sie voll geladen, hat sie einen\n",
    "Innenwiderstand von ca. $20~\\textrm{m}\\Omega$. An die Pole werden nun verschiedene Widerstände $R$\n",
    "angeschlossen und die Spannung, die über $R$ abfällt, mit einem Voltmeter gemessen.\n",
    "Alle Widerstände sind vom Hersteller mit $5\\%$ Toleranz spezifiziert. Im Stromkreis wird ein\n",
    "Schalter eingebaut, um im Wechsel die Leerlaufspannung $U_0$ und die Klemmspannung $U_k$\n",
    "zu messen. Das Spannungsmeßgerät war sehr günstig bei Ebay gekauft worden.\n",
    "\n",
    "Folgendende Messwerte werden ermittelt:\n",
    "\n",
    "Sie beobachten während der Umsetzung der Planung einen zunehmend unangenehmen\n",
    "Geruch und Funkenbildung. Nach dem Experiment haben Sie verbrannte Finger und\n",
    "der Schalter ist defekt. Bitte haben Sie Augenmerk auf mögliche Ausreißer durch die\n",
    "hektische Messung. "
   ]
  },
  {
   "cell_type": "code",
   "execution_count": 1,
   "metadata": {
    "scrolled": true
   },
   "outputs": [
    {
     "name": "stdout",
     "output_type": "stream",
     "text": [
      " chr [1:14, 1:8] \"1\" \"1e+02\" \"12.03\" \"11.63\" \"12.34\" \"11.95\" \"11.73\" ...\n",
      " - attr(*, \"dimnames\")=List of 2\n",
      "  ..$ : chr [1:14] \"Nr.\" \"R\" \"U0.1\" \"Uk.1\" ...\n",
      "  ..$ : NULL\n"
     ]
    },
    {
     "data": {
      "text/html": [
       "<table>\n",
       "<caption>A matrix: 6 × 8 of type chr</caption>\n",
       "<tbody>\n",
       "\t<tr><th scope=row>Nr.</th><td>1    </td><td>2    </td><td>3    </td><td>4    </td><td>5    </td><td>6    </td><td>7    </td><td>8    </td></tr>\n",
       "\t<tr><th scope=row>R</th><td>1e+02</td><td>1e+01</td><td>3e+00</td><td>1e+00</td><td>3e-01</td><td>1e-01</td><td>3e-02</td><td>1e-02</td></tr>\n",
       "\t<tr><th scope=row>U0.1</th><td>12.03</td><td>11.65</td><td>11.94</td><td>12.31</td><td>11.84</td><td>12.40</td><td>11.97</td><td>11.53</td></tr>\n",
       "\t<tr><th scope=row>Uk.1</th><td>11.63</td><td>12.58</td><td>11.47</td><td>11.03</td><td> 9.18</td><td> 6.08</td><td> 2.31</td><td> 0.96</td></tr>\n",
       "\t<tr><th scope=row>U0.2</th><td>12.34</td><td>12.32</td><td>12.01</td><td>12.10</td><td>11.92</td><td>12.17</td><td>12.01</td><td>10.35</td></tr>\n",
       "\t<tr><th scope=row>Uk.2</th><td>11.95</td><td>12.19</td><td>11.83</td><td>11.37</td><td> 8.46</td><td> 5.95</td><td> 1.97</td><td> 0.99</td></tr>\n",
       "</tbody>\n",
       "</table>\n"
      ],
      "text/latex": [
       "A matrix: 6 × 8 of type chr\n",
       "\\begin{tabular}{r|llllllll}\n",
       "\tNr. & 1     & 2     & 3     & 4     & 5     & 6     & 7     & 8    \\\\\n",
       "\tR & 1e+02 & 1e+01 & 3e+00 & 1e+00 & 3e-01 & 1e-01 & 3e-02 & 1e-02\\\\\n",
       "\tU0.1 & 12.03 & 11.65 & 11.94 & 12.31 & 11.84 & 12.40 & 11.97 & 11.53\\\\\n",
       "\tUk.1 & 11.63 & 12.58 & 11.47 & 11.03 &  9.18 &  6.08 &  2.31 &  0.96\\\\\n",
       "\tU0.2 & 12.34 & 12.32 & 12.01 & 12.10 & 11.92 & 12.17 & 12.01 & 10.35\\\\\n",
       "\tUk.2 & 11.95 & 12.19 & 11.83 & 11.37 &  8.46 &  5.95 &  1.97 &  0.99\\\\\n",
       "\\end{tabular}\n"
      ],
      "text/markdown": [
       "\n",
       "A matrix: 6 × 8 of type chr\n",
       "\n",
       "| Nr. | 1     | 2     | 3     | 4     | 5     | 6     | 7     | 8     |\n",
       "| R | 1e+02 | 1e+01 | 3e+00 | 1e+00 | 3e-01 | 1e-01 | 3e-02 | 1e-02 |\n",
       "| U0.1 | 12.03 | 11.65 | 11.94 | 12.31 | 11.84 | 12.40 | 11.97 | 11.53 |\n",
       "| Uk.1 | 11.63 | 12.58 | 11.47 | 11.03 |  9.18 |  6.08 |  2.31 |  0.96 |\n",
       "| U0.2 | 12.34 | 12.32 | 12.01 | 12.10 | 11.92 | 12.17 | 12.01 | 10.35 |\n",
       "| Uk.2 | 11.95 | 12.19 | 11.83 | 11.37 |  8.46 |  5.95 |  1.97 |  0.99 |\n",
       "\n"
      ],
      "text/plain": [
       "     [,1]  [,2]  [,3]  [,4]  [,5]  [,6]  [,7]  [,8] \n",
       "Nr.  1     2     3     4     5     6     7     8    \n",
       "R    1e+02 1e+01 3e+00 1e+00 3e-01 1e-01 3e-02 1e-02\n",
       "U0.1 12.03 11.65 11.94 12.31 11.84 12.40 11.97 11.53\n",
       "Uk.1 11.63 12.58 11.47 11.03  9.18  6.08  2.31  0.96\n",
       "U0.2 12.34 12.32 12.01 12.10 11.92 12.17 12.01 10.35\n",
       "Uk.2 11.95 12.19 11.83 11.37  8.46  5.95  1.97  0.99"
      ]
     },
     "metadata": {},
     "output_type": "display_data"
    }
   ],
   "source": [
    "library(scales)\n",
    "library(ggplot2)\n",
    "\n",
    "bt_tabelle <- t(read.csv('Daten/batterietesterdaten.csv', header = TRUE, sep = \",\"))\n",
    "str(bt_tabelle) \n",
    "head(bt_tabelle)"
   ]
  },
  {
   "cell_type": "markdown",
   "metadata": {},
   "source": [
    "ohne die fehlenden Werte (sog. 'NA') mit zu berücksichtigen"
   ]
  },
  {
   "cell_type": "code",
   "execution_count": 2,
   "metadata": {},
   "outputs": [
    {
     "data": {
      "text/html": [
       "<style>\n",
       ".dl-inline {width: auto; margin:0; padding: 0}\n",
       ".dl-inline>dt, .dl-inline>dd {float: none; width: auto; display: inline-block}\n",
       ".dl-inline>dt::after {content: \":\\0020\"; padding-right: .5ex}\n",
       ".dl-inline>dt:not(:first-of-type) {padding-left: .5ex}\n",
       "</style><dl class=dl-inline><dt>T30.1</dt><dd>9.72</dd><dt>T30.2</dt><dd>10.49</dd><dt>T30.3</dt><dd>10.1</dd><dt>T30.4</dt><dd>9.98</dd><dt>T30.5</dt><dd>10.34</dd><dt>T30.6</dt><dd>10</dd><dt>T30.7</dt><dd>10</dd></dl>\n"
      ],
      "text/latex": [
       "\\begin{description*}\n",
       "\\item[T30.1] 9.72\n",
       "\\item[T30.2] 10.49\n",
       "\\item[T30.3] 10.1\n",
       "\\item[T30.4] 9.98\n",
       "\\item[T30.5] 10.34\n",
       "\\item[T30.6] 10\n",
       "\\item[T30.7] 10\n",
       "\\end{description*}\n"
      ],
      "text/markdown": [
       "T30.1\n",
       ":   9.72T30.2\n",
       ":   10.49T30.3\n",
       ":   10.1T30.4\n",
       ":   9.98T30.5\n",
       ":   10.34T30.6\n",
       ":   10T30.7\n",
       ":   10\n",
       "\n"
      ],
      "text/plain": [
       "T30.1 T30.2 T30.3 T30.4 T30.5 T30.6 T30.7 \n",
       " 9.72 10.49 10.10  9.98 10.34 10.00 10.00 "
      ]
     },
     "metadata": {},
     "output_type": "display_data"
    }
   ],
   "source": [
    "fp_tabelle[(which(fp_tabelle[2:11,1] != 'NA')+1), 1]"
   ]
  },
  {
   "cell_type": "markdown",
   "metadata": {},
   "source": [
    "Jetzt sind wir in der Lage, die Länge, den Mittelwert und die Standardabweichung für jeden dieser Versuche zu ermitteln."
   ]
  },
  {
   "cell_type": "code",
   "execution_count": 9,
   "metadata": {},
   "outputs": [],
   "source": [
    "laenge <- c()\n",
    "mittelwerte <- c()\n",
    "standard_abweichungen <- c()\n",
    "\n",
    "for (k in 1:4) { \n",
    "  messungen <- c(fp_tabelle[(which(fp_tabelle[2:11, k] != 'NA')+1), k])\n",
    "  laenge <- c(laenge, length(messungen))\n",
    "  mittelwerte <- c(mittelwerte, mean(messungen))\n",
    "  standard_abweichungen <- c(standard_abweichungen, sd(messungen))\n",
    "}"
   ]
  },
  {
   "cell_type": "code",
   "execution_count": 20,
   "metadata": {},
   "outputs": [
    {
     "name": "stdout",
     "output_type": "stream",
     "text": [
      "\n",
      " Mittelwerte:   0.0003737037  0.0005145503  0.0005821296  0.0006916667\n",
      " Standardabweichungen:   9.415958e-06  1.60727e-05  1.431669e-05  1.562033e-05\n",
      " Fehler der Mittelwerte:   1.345137e-06  2.2961e-06  1.789586e-06  1.562033e-06\n",
      " Relative Fehler:   0.360%  0.446%  0.307%  0.226%"
     ]
    }
   ],
   "source": [
    "mittelwerte <- mittelwerte / 30\n",
    "standard_abweichungen <- standard_abweichungen / 30\n",
    "\n",
    "fehler_mittel <- standard_abweichungen / laenge\n",
    "rel_fehler <- fehler_mittel / mittelwerte\n",
    "\n",
    "cat(\"\\n Mittelwerte: \", mittelwerte, sep = \"  \")\n",
    "cat(\"\\n Standardabweichungen: \", standard_abweichungen, sep = \"  \")\n",
    "cat(\"\\n Fehler der Mittelwerte: \", fehler_mittel, sep = \"  \")\n",
    "cat(\"\\n Relative Fehler: \", percent(rel_fehler), sep = \"  \")"
   ]
  },
  {
   "cell_type": "code",
   "execution_count": 58,
   "metadata": {},
   "outputs": [
    {
     "data": {
      "text/html": [
       "<style>\n",
       ".list-inline {list-style: none; margin:0; padding: 0}\n",
       ".list-inline>li {display: inline-block}\n",
       ".list-inline>li:not(:last-child)::after {content: \"\\00b7\"; padding: 0 .5ex}\n",
       "</style>\n",
       "<ol class=list-inline><li>1.00536525183144e-09</li><li>2.36291779354679e-09</li><li>2.08354263384063e-09</li><li>2.16081279734367e-09</li></ol>\n"
      ],
      "text/latex": [
       "\\begin{enumerate*}\n",
       "\\item 1.00536525183144e-09\n",
       "\\item 2.36291779354679e-09\n",
       "\\item 2.08354263384063e-09\n",
       "\\item 2.16081279734367e-09\n",
       "\\end{enumerate*}\n"
      ],
      "text/markdown": [
       "1. 1.00536525183144e-09\n",
       "2. 2.36291779354679e-09\n",
       "3. 2.08354263384063e-09\n",
       "4. 2.16081279734367e-09\n",
       "\n",
       "\n"
      ],
      "text/plain": [
       "[1] 1.005365e-09 2.362918e-09 2.083543e-09 2.160813e-09"
      ]
     },
     "metadata": {},
     "output_type": "display_data"
    },
    {
     "data": {
      "text/html": [
       "<style>\n",
       ".list-inline {list-style: none; margin:0; padding: 0}\n",
       ".list-inline>li {display: inline-block}\n",
       ".list-inline>li:not(:last-child)::after {content: \"\\00b7\"; padding: 0 .5ex}\n",
       "</style>\n",
       "<ol class=list-inline><li>'0.720%'</li><li>'0.892%'</li><li>'0.615%'</li><li>'0.452%'</li></ol>\n"
      ],
      "text/latex": [
       "\\begin{enumerate*}\n",
       "\\item '0.720\\%'\n",
       "\\item '0.892\\%'\n",
       "\\item '0.615\\%'\n",
       "\\item '0.452\\%'\n",
       "\\end{enumerate*}\n"
      ],
      "text/markdown": [
       "1. '0.720%'\n",
       "2. '0.892%'\n",
       "3. '0.615%'\n",
       "4. '0.452%'\n",
       "\n",
       "\n"
      ],
      "text/plain": [
       "[1] \"0.720%\" \"0.892%\" \"0.615%\" \"0.452%\""
      ]
     },
     "metadata": {},
     "output_type": "display_data"
    }
   ],
   "source": [
    "2*rel_fehler*(periode)\n",
    "percent(2*rel_fehler*(mittelwerte^2)/periode)"
   ]
  },
  {
   "cell_type": "code",
   "execution_count": 78,
   "metadata": {},
   "outputs": [
    {
     "data": {
      "image/png": "[encoded data removed]",
      "text/plain": [
       "plot without title"
      ]
     },
     "metadata": {
      "image/png": {
       "height": 420,
       "width": 420
      }
     },
     "output_type": "display_data"
    }
   ],
   "source": [
    "df <- data.frame(masse = c(0.05, 0.15, 0.20, 0.30), periode = mittelwerte^2)\n",
    "\n",
    "p <- ggplot(df, aes(x = masse, y = periode)) + \n",
    "     geom_line() + \n",
    "     geom_point() +\n",
    "     geom_errorbar(aes(ymin = periode - standard_abweichungen, \n",
    "                       ymax = periode + standard_abweichungen),\n",
    "                   width = 0.03*c(0.05, 0.15, 0.20, 0.30))\n",
    "\n",
    "print(p)"
   ]
  },
  {
   "cell_type": "markdown",
   "metadata": {},
   "source": [
    "---"
   ]
  }
 ],
 "metadata": {
  "kernelspec": {
   "display_name": "R",
   "language": "R",
   "name": "ir"
  },
  "language_info": {
   "codemirror_mode": "r",
   "file_extension": ".r",
   "mimetype": "text/x-r-source",
   "name": "R",
   "pygments_lexer": "r",
   "version": "3.4.4"
  }
 },
 "nbformat": 4,
 "nbformat_minor": 2
}
