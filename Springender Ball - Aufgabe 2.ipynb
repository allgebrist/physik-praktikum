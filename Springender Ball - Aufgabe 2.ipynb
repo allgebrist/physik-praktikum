{
 "cells": [
  {
   "cell_type": "markdown",
   "metadata": {},
   "source": [
    "# Springender Ball: Aufgabe 2"
   ]
  },
  {
   "cell_type": "markdown",
   "metadata": {},
   "source": [
    "Technische Universität Berlin, Straße des 17. Juni 135, 10623 Berlin, Deutschland\n",
    "\n",
    "---\n",
    "\n",
    "**Andrii Fedoryshyn** (Kurs 348T)\n",
    "\n",
    "E-mail: andriifedoryshyn@campus.tu-berlin.de\n",
    "\n",
    "**Vasu Seghal** (Kurs 348T)\n",
    "\n",
    "E-mail: vasusehgal10611@gmail.com \n",
    "    \n",
    "**Neng Tang** (Kurs 348T)\n",
    "\n",
    "E-mail: nathantangneng@gmail.com\n",
    "\n",
    "**Allan A. Zea** (Kurs 348T)\n",
    "\n",
    "E-mail: zealobo@campus.tu-berlin.de\n",
    "\n",
    "---"
   ]
  },
  {
   "cell_type": "markdown",
   "metadata": {},
   "source": [
    "### Einfluss der Luftreibung \n",
    "\n",
    "Bei hinreichend großen Geschwindigkeiten ist die Umströmung eines Körpers turbulent. Dann beobachtet man eine quadratische Abhängigkeit der Reibungskraft von der Geschwindigkeit. Diese ist immer dem Geschwindigkeitsvektor entgegengerichtet. Zusätzlich ist die Kraft proportional der Dichte des Mediums $\\rho_{\\textrm{Luft}}$ und der Querschnittsfläche $A$. Die gesamte, sehr komplizierte Strömungsdynamik wird in dem Proportionalitätsfaktor zusammengefasst, dem sogenannten Widerstandskoeffizienten $C_W$ oder kurz $C_W$-Wert:\n",
    "\n",
    "\\begin{equation}\n",
    "    F_W=\\frac{1}{2}\\rho_{\\textrm{Luft}}\\cdot v^2\\cdot A\\cdot C_W.\n",
    "\\end{equation}\n",
    "\n",
    "Wenn sich im freien Fall die Gewichtskraft und die Reibungskraft gerade im Gleichgewicht befinden, ändert sich die Fallgeschwindigkeit nicht mehr, und der Körper fällt mit der Maximalgeschwindigkeit $v_\\infty$.\n",
    "\n",
    "---"
   ]
  },
  {
   "cell_type": "markdown",
   "metadata": {},
   "source": [
    "**Aufgabe (a).**  Leiten sie die Formel für $v_\\infty$ her und berechnen sie grob Werte ($\\textrm{m}/\\textrm{s}$ und $\\textrm{km}/\\textrm{h}$) für folgende Körper: TT-Ball, Stahlkugel ($d=4 \\textrm{cm}$, $d=10 \\textrm{cm}$), Mensch (als „Kugel“), Mensch in Fallschirmspringerhaltung, Wattebausch, Marienkäfer, Ameise, Wüstensandkorn.\n",
    "Die Dichten und Größen finden Sie im Internet. (Bitte als Tabelle darstellen)."
   ]
  },
  {
   "cell_type": "markdown",
   "metadata": {},
   "source": [
    "**Lösung.** Wir betrachten einen Ball im freien Fall und möchten seine maximale Geschwindigkeit bestimmen. Die Fallgeschwindigkeit $v=v(t)$ ist hierbei eine Funktion der Zeit $t$. Aus der Grundgleichung der Mechanik und der Definition des Strömungswiderstands $F_W$ ergibt sich folgendes:\n",
    "\n",
    "\\begin{aligned}\n",
    "    \\sum F_y &= mg-F_W\\\\\n",
    "             &= mg-\\frac{1}{2}\\rho_{\\textrm{Luft}}\\cdot v^2\\cdot A\\cdot C_W.\n",
    "\\end{aligned}\n",
    "\n",
    "Wenn sich das System im Gleichgewicht befindet, ist die resultierende Kraft gleich null $\\left(\\sum F_y=0\\right)$ und die Fallgeschwindigkeit erreicht dann ihren maximalen Wert $v_\\infty := \\lim_{t\\rightarrow\\infty}v(t)$. Aus der oberen Gleichung folgt also $mg=\\frac{1}{2}\\rho_{\\textrm{Luft}}\\cdot v_\\infty^2\\cdot A\\cdot C_W$.\n",
    "\n",
    "\\begin{equation}\n",
    "    v_\\infty=\\sqrt{\\frac{2mg}{\\rho_{\\textrm{Luft}}\\cdot A\\cdot C_W}}.\n",
    "\\end{equation}\n",
    "\n",
    "---"
   ]
  }
 ],
 "metadata": {
  "kernelspec": {
   "display_name": "Python 3",
   "language": "python",
   "name": "python3"
  },
  "language_info": {
   "codemirror_mode": {
    "name": "ipython",
    "version": 3
   },
   "file_extension": ".py",
   "mimetype": "text/x-python",
   "name": "python",
   "nbconvert_exporter": "python",
   "pygments_lexer": "ipython3",
   "version": "3.7.5rc1"
  }
 },
 "nbformat": 4,
 "nbformat_minor": 4
}
