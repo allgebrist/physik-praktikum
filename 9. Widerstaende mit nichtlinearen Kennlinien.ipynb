{
 "cells": [
  {
   "cell_type": "markdown",
   "metadata": {},
   "source": [
    "# Widerstände mit nichtlinearen Kennlinien"
   ]
  },
  {
   "cell_type": "markdown",
   "metadata": {},
   "source": [
    "Technische Universität Berlin, Straße des 17. Juni 135, 10623 Berlin, Deutschland\n",
    "\n",
    "---\n",
    "    \n",
    "**Vladimir Lazarev** (Kurs 348T)\n",
    "\n",
    "E-mail: lazarev.vowa2012@ya.ru\n",
    "\n",
    "**Allan A. Zea** (Kurs 348T)\n",
    "\n",
    "E-mail: zealobo@campus.tu-berlin.de\n",
    "\n",
    "**Andrei Zharski** (Kurs 348T)\n",
    "\n",
    "E-mail: andrei.zharski@gmail.com\n",
    "\n",
    "---"
   ]
  },
  {
   "cell_type": "markdown",
   "metadata": {},
   "source": [
    "**Aufgabe 1.** Bei einer Glühlampe ist die Temperatur des Metallfadens abhängig von der angelegten Spannung, der Widerstand wächst wegen des positiven Temperaturkoefﬁzienten bei steigender Temperatur an. Die Kennlinie einer Glühlampe hat daher einen gekrümmten Verlauf. Bei steigender Temperatur wird der Widerstand größer, daher wird die Steigung der Kennlinie kleiner.\n",
    "\n",
    "Bauen Sie die Schaltung nach Abbildung 3 auf und messen Sie in spannungsrichtiger Schaltung 10 Wertepaare für Spannung $U$ und Stromstärke $I$ (6 Wertepaare im Bereich $0,2\\textrm{ V}$ bis $3\\textrm{ V}$ und 4 Wertepaare im Bereich $4\\textrm{ V}$ bis $10\\textrm{ V}$). Verwenden Sie am Amperemeter den Messbereich $\\textrm{mA}$.\n",
    "\n",
    "---\n",
    "\n",
    "\n",
    "**Lösung.** Die Messungen sind in der Tabelle 1 zusammengefasst. Hierbei war der geschätzte Fehler für die Spannung- und Strommesswerte jeweils $\\Delta U = 0,04\\textrm{ V}$ und $\\Delta I = 0,1\\textrm{ mA}$.\n",
    "\n",
    "\n",
    "| Tabelle 1. |      |      |      |      |      |      |      |      |      |      |\n",
    "|---------|------|------|------|------|------|------|------|------|------|------|\n",
    "| $U$ / $\\textrm{V}$ | 0,26 | 0,49 | 0,88 | 1,5  | 2,37 | 3    | 4,5  | 6,04 | 8,17 | 9,65 |\n",
    "| $I$ / $\\textrm{mA}$ | 8,8  | 19  | 24,7 | 31,8 | 40,9 | 46,8 | 59,1 | 69,4 | 82,4 | 91,1 |\n",
    "\n",
    "---"
   ]
  },
  {
   "cell_type": "markdown",
   "metadata": {},
   "source": [
    "**Aufgabe 2.** Der Widerstand von Halbleitern ist temperaturabhängig mit einem negativen Temperaturkoefﬁzienten, weshalb der Widerstand bei steigender Temperatur kleiner wird. Außerdem\n",
    "ist der Widerstand einer Halbleiterdiode stark abhängig von der Polarität der angelegten Spannung.\n",
    "\n",
    "Bei Schaltung in Sperrrichtung ist der Strom vernachlässigbar klein. In Durchlassrichtung\n",
    "beginnt ein Stromﬂuss erst, wenn die sogenannte Schleusenspannung $U_S$ überschritten wird. Bei weiter steigender Spannung verläuft die Kennlinie näherungsweise linear.\n",
    "\n",
    "Ersetzen Sie in der Schaltung von Abbildung 3 die Kleinglühlampe durch die Halbleiterdiode.\n",
    "Am Labortisch haben Sie an der Anschlussklemme 1 den Pluspol und an der Anschlussklemme 2 den Minuspol Ihrer Spannungsquelle. Messen Sie in Durchlassrichtung 10 Wertepaare im Bereich von $3,5\\textrm{ V}$ bis $10\\textrm{ V}$. Messen Sie darüber hinaus 3 Wertepaare in Sperrrichtung im Bereich von $1\\textrm{ V}$ bis $10\\textrm{ V}$ .\n",
    "\n",
    "**Lösung.** Die Messungen in Durchlass- und Sperrrichtung sind jeweils in den Tabellen 2.1 und 2.2 zusammengefasst. Hierbei war der geschätzte Fehler für die Spannung- und Strommesswerte jeweils $\\Delta U = 0,04\\textrm{ V}$ und $\\Delta I = 0,1\\textrm{ mA}$.\n",
    "\n",
    "\n",
    "| Tabelle 2.1. |      |      |      |      |      |      |    |      |      |      |\n",
    "|-----------|------|------|------|------|------|------|----|------|------|------|\n",
    "| $U$ / $\\textrm{V}$ | 3,58 | 4,37 | 4,85 | 5,05 | 5,32 | 6,48 | 7  | 7,36 | 8,44 | 9,66 |\n",
    "| $I$ / $\\textrm{mA}$  | 0,2  | 0,9  | 2,4  | 3,2  | 4,1  | 12,8 | 17 | 20,7 | 31,9 | 45,3 |\n",
    "\n",
    "\n",
    "| Tabelle 2.2. |      |     |    |\n",
    "|---------------|------|-----|----|\n",
    "| $U$ / $\\textrm{V}$ | 0,78 | 4,9 | 10 |\n",
    "| $I$ / $\\textrm{mA}$ | 0    | 0   | 0  |\n",
    "\n",
    "\n",
    "---"
   ]
  },
  {
   "cell_type": "markdown",
   "metadata": {},
   "source": [
    "**Aufgabe 3.** Bei einer Z-Diode oder Zenerdiode ﬂießt in Sperrrichtung ein Strom $I$, wenn die sogenannte Durchbruchsparmung oder Zenerspannung $U_Z$ überschritten wird. Sehr kleine Spannungsänderungen haben dann sehr große Stromänderung zur Folge, die Kennlinie verläuft sehr steil. Z-Dioden werden deshalb verwendet zur Stabilisierung von Spannungen bei stark schwankenden Lastströmen. Die nebenstehende Abbildung 5 zeigt die Kennlinie einer Z-Diode mit Zenerspannung $U_Z$ und Schleusenspannung $U_S$. Abbildung 5\n",
    "\n",
    "Ersetzen Sie in der Schaltung von Abbildung 3 die Kleinglühlampe durch die Z-Diode. Messen Sie in Durchlassrichtung 10 Wertepaare im Bereich von $0,55\\textrm{ V}$ bis $0,75\\textrm{ V}$.\n",
    "\n",
    "\n",
    "| Tabelle 3.1. |       |        |        |        |        |        |        |        |        |        |\n",
    "|-------------------|-------|--------|--------|--------|--------|--------|--------|--------|--------|--------|\n",
    "| $U$ / $\\textrm{V}$ | -0,75 | -0,744 | -0,737 | -0,731 | -0,715 | -0,697 | -0,675 | -0,653 | -0,626 | -0,554 |\n",
    "| $I$ / $\\textrm{mA}$ | -68,4 | -54,3  | -42,15 | -33,2  | -18,9  | -10,55 | -5,26  | -2,64  | -1,21  | -0,19  |\n",
    "\n",
    "\n",
    "| Tabelle 3.2. |      |      |      |       |      |      |      |      |      |      |\n",
    "|---------------|------|------|------|-------|------|------|------|------|------|------|\n",
    "| $U$ / $\\textrm{V}$ | 5,03 | 5,49 | 6,03 | 6,11  | 6,17 | 6,2  | 6,22 | 6,24 | 6,27 | 6,29 |\n",
    "| $I$ / $\\textrm{mA}$ | 0,34 | 1,05 | 6,36 | 11,39 | 24,8 | 36,6 | 46,9 | 61,5 | 76,8 | 95,3 |\n",
    "\n",
    "\n",
    "---"
   ]
  },
  {
   "cell_type": "markdown",
   "metadata": {},
   "source": [
    "**Aufgabe 4.** Bei einer Leuchtdiode (LED) wird oberhalb der Schleusenspannung Licht emittiert. Bei steigender Spannung nimmt die Helligkeit der Leuchtdiode zu. Die folgenden Messungenwerden an einer roten Leuchtdiode durchgeführt.  Ersetzen Sie in der Schaltung von Aufgabe 3 die Kleinglühlampe durch die Leuchtdiode in\n",
    "*Durchlassrichtung*.\n",
    "\n",
    "| Tabelle 4. |       |       |      |      |       |       |       |       |       |       |\n",
    "|---------|-------|-------|------|------|-------|-------|-------|-------|-------|-------|\n",
    "| $U$ / $\\textrm{V}$ | 1,813 | 1,852 | 1,88 | 1,9  | 1,942 | 1,983 | 2,059 | 2,139 | 2,227 | 2,296 |\n",
    "| $I$ / $\\textrm{mA}$ | 0,51  | 1,23  | 2,04 | 2,74 | 4,51  | 6,47  | 10,52 | 15,08 | 20,22 | 24,27 |\n",
    "\n",
    "---"
   ]
  },
  {
   "cell_type": "markdown",
   "metadata": {},
   "source": [
    "**Aufgabe 5.** Tragen Sie auf Millimeterpapier die Messwerte von Aufgabe 1 mit Fehlerrechtecken ein. Zeichnen Sie durch die Messwertrechtecke eine glatte Ausgleichskurve. Zeichnen Sie an der Stelle $U = 4\\textrm{ V}$ die Tangente an die Ausgleichskurve und bestimmen Sie aus dem Kehrwert der Tangentensteigung den differentiellen Widerstand $dU/dI$.\n",
    "\n",
    "![](https://raw.githubusercontent.com/allgebrist/studienkolleg-physik-praktikum/master/Bilder/9.1.jpg)\n",
    "\n",
    "---"
   ]
  },
  {
   "cell_type": "markdown",
   "metadata": {},
   "source": [
    "**Aufgabe 6.** Tragen Sie auf Millimeterpapier die Messwerte von Aufgabe 2 für Durchlass- und Sperrrichtung ein. Zeichnen Sie durch die Messpunkte eine glatte Ausgleichskurve. Bestimmen\n",
    "Sie für den näherungsweise linearen Bereich den differentiellen Widerstand $dU/dI$. Verlängern Sie entsprechend Abbildung 5 den linearen Bereich und bestimmen Sie aus dem Achsenschnittpunkt die Schleusenspannung $U_S$.\n",
    "\n",
    "\n",
    "![](https://raw.githubusercontent.com/allgebrist/studienkolleg-physik-praktikum/master/Bilder/9.2.jpg)\n",
    "\n",
    "---"
   ]
  },
  {
   "cell_type": "markdown",
   "metadata": {},
   "source": [
    "**Aufgabe 7.** Tragen Sie auf Millimeterpapier die Messwerte von Aufgabe 3 für Durchlass- und Sperrrichtung ein. Zeichnen Sie durch Ihre Messpunkte die Kennlinie entsprechend Abbildung 5. Bestimmen Sie die Zenerspannung $U_Z$ und den differentiellen Widerstand $dU/dI$ für den linearen Bereich der Kennlinie bei der Zenerspannung.\n",
    "\n",
    "\n",
    "![](https://raw.githubusercontent.com/allgebrist/studienkolleg-physik-praktikum/master/Bilder/9.3.jpg)\n",
    "\n",
    "---"
   ]
  },
  {
   "cell_type": "markdown",
   "metadata": {},
   "source": [
    "**Aufgabe 8.** Tragen Sie auf Millimeterpapier die Messwerte von Aufgabe 4 ein. Bestimmen Sie aus der\n",
    "Graphik die Schleusenspannung $U_S$ und schätzen Sie den absoluten Fehler $\\Delta U_S$.\n",
    "\n",
    "![](https://raw.githubusercontent.com/allgebrist/studienkolleg-physik-praktikum/master/Bilder/9.4.jpg)\n",
    "\n",
    "---"
   ]
  }
 ],
 "metadata": {
  "kernelspec": {
   "display_name": "Python 3",
   "language": "python",
   "name": "python3"
  },
  "language_info": {
   "codemirror_mode": {
    "name": "ipython",
    "version": 3
   },
   "file_extension": ".py",
   "mimetype": "text/x-python",
   "name": "python",
   "nbconvert_exporter": "python",
   "pygments_lexer": "ipython3",
   "version": "3.7.5"
  }
 },
 "nbformat": 4,
 "nbformat_minor": 4
}
