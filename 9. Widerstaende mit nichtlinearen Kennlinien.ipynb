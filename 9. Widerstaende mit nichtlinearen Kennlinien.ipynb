{
 "cells": [
  {
   "cell_type": "markdown",
   "metadata": {},
   "source": [
    "# Widerstände mit nichtlinearen Kennlinien"
   ]
  },
  {
   "cell_type": "markdown",
   "metadata": {},
   "source": [
    "Technische Universität Berlin, Straße des 17. Juni 135, 10623 Berlin, Deutschland\n",
    "\n",
    "---\n",
    "    \n",
    "**Vladimir Lazarev** (Kurs 348T)\n",
    "\n",
    "E-mail: lazarev.vowa2012@ya.ru\n",
    "\n",
    "**Allan A. Zea** (Kurs 348T)\n",
    "\n",
    "E-mail: zealobo@campus.tu-berlin.de\n",
    "\n",
    "**Andrei Zharski** (Kurs 348T)\n",
    "\n",
    "E-mail: andrei.zharski@gmail.com\n",
    "\n",
    "---"
   ]
  },
  {
   "cell_type": "markdown",
   "metadata": {},
   "source": [
    "| Tabelle 1. |      |      |      |      |      |      |      |      |      |      |\n",
    "|---------|------|------|------|------|------|------|------|------|------|------|\n",
    "| $U$ / $\\textrm{V}$ | 0,26 | 0,49 | 0,88 | 1,5  | 2,37 | 3    | 4,5  | 6,04 | 8,17 | 9,65 |\n",
    "| $I$ / $\\textrm{mA}$ | 8,8  | 19  | 24,7 | 31,8 | 40,9 | 46,8 | 59,1 | 69,4 | 82,4 | 91,1 |\n",
    "\n",
    "---"
   ]
  },
  {
   "cell_type": "markdown",
   "metadata": {},
   "source": [
    "| Tabelle 2.1. |      |      |      |      |      |      |    |      |      |      |\n",
    "|-----------|------|------|------|------|------|------|----|------|------|------|\n",
    "| $U$ / $\\textrm{V}$ | 3,58 | 4,37 | 4,85 | 5,05 | 5,32 | 6,48 | 7  | 7,36 | 8,44 | 9,66 |\n",
    "| $I$ / $\\textrm{mA}$  | 0,2  | 0,9  | 2,4  | 3,2  | 4,1  | 12,8 | 17 | 20,7 | 31,9 | 45,3 |\n",
    "\n",
    "\n",
    "| Tabelle 2.2. |      |     |    |\n",
    "|---------------|------|-----|----|\n",
    "| $U$ / $\\textrm{V}$ | 0,78 | 4,9 | 10 |\n",
    "| $I$ / $\\textrm{mA}$ | 0    | 0   | 0  |\n",
    "\n",
    "\n",
    "---"
   ]
  },
  {
   "cell_type": "markdown",
   "metadata": {},
   "source": [
    "| Tabelle 3.1. |       |        |        |        |        |        |        |        |        |        |\n",
    "|-------------------|-------|--------|--------|--------|--------|--------|--------|--------|--------|--------|\n",
    "| $U$ / $\\textrm{V}$ | -0,75 | -0,744 | -0,737 | -0,731 | -0,715 | -0,697 | -0,675 | -0,653 | -0,626 | -0,554 |\n",
    "| $I$ / $\\textrm{mA}$ | -68,4 | -54,3  | -42,15 | -33,2  | -18,9  | -10,55 | -5,26  | -2,64  | -1,21  | -0,19  |\n",
    "\n",
    "\n",
    "| Tabelle 3.2. |      |      |      |       |      |      |      |      |      |      |\n",
    "|---------------|------|------|------|-------|------|------|------|------|------|------|\n",
    "| $U$ / $\\textrm{V}$ | 5,03 | 5,49 | 6,03 | 6,11  | 6,17 | 6,2  | 6,22 | 6,24 | 6,27 | 6,29 |\n",
    "| $I$ / $\\textrm{mA}$ | 0,34 | 1,05 | 6,36 | 11,39 | 24,8 | 36,6 | 46,9 | 61,5 | 76,8 | 95,3 |\n",
    "\n",
    "---"
   ]
  }
 ],
 "metadata": {
  "kernelspec": {
   "display_name": "Python 3",
   "language": "python",
   "name": "python3"
  },
  "language_info": {
   "codemirror_mode": {
    "name": "ipython",
    "version": 3
   },
   "file_extension": ".py",
   "mimetype": "text/x-python",
   "name": "python",
   "nbconvert_exporter": "python",
   "pygments_lexer": "ipython3",
   "version": "3.7.5"
  }
 },
 "nbformat": 4,
 "nbformat_minor": 4
}
