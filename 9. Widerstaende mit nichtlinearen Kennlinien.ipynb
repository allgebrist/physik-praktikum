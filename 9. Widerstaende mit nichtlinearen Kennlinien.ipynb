{
 "cells": [
  {
   "cell_type": "markdown",
   "metadata": {},
   "source": [
    "# Widerstände mit nichtlinearen Kennlinien"
   ]
  },
  {
   "cell_type": "markdown",
   "metadata": {},
   "source": [
    "Technische Universität Berlin, Straße des 17. Juni 135, 10623 Berlin, Deutschland\n",
    "\n",
    "---\n",
    "    \n",
    "**Vladimir Lazarev** (Kurs 348T)\n",
    "\n",
    "E-mail: lazarev.vowa2012@ya.ru\n",
    "\n",
    "**Allan A. Zea** (Kurs 348T)\n",
    "\n",
    "E-mail: zealobo@campus.tu-berlin.de\n",
    "\n",
    "**Andrei Zharski** (Kurs 348T)\n",
    "\n",
    "E-mail: andrei.zharski@gmail.com\n",
    "\n",
    "---"
   ]
  },
  {
   "cell_type": "markdown",
   "metadata": {},
   "source": [
    "### Vorbemerkungen zum Versuch\n",
    "\n",
    "Wie beim Versuch *Ohmsche Widerstände* werden zur Aufnahme der Kennlinien Spannung und Stromstärke mit den bekannten Multimetern gemessen. Da die zu messenden Widerstände klein sind im Vergleich zum Innenwiderstand des Voltmeters wird immer die spannungsrichtige Messschaltung verwendet.\n",
    "\n",
    "Bei *Ohmschen Widerständen* ist der Quotient von Spannung und Stromstärke konstant. Das gilt\n",
    "aber nur bei konstanter Temperatur, da elektrische Widerstände temperaturabhängig sind. Für den Bereich von 0°C bis 100 °C gilt in guter Näherung für die Temperaturabhängigkeit des elektrischen Widerstandes\n",
    "\n",
    "\\begin{equation}\n",
    "    R(\\delta) = R_{20}(1+\\alpha(\\delta/^\\textrm{o}\\textrm{C}-20)\\textrm{K})\n",
    "\\end{equation}\n",
    "\n",
    "mit der Temperatur $\\delta$ in °C, dem Widerstand $R_{20}$ bei 20 °C und dem Temperaturkoeffizienten $\\alpha$ in $\\textrm{K}^{-1}$ . Bei Metallen ist der Temperaturkoeffizient positiv, bei Halbleitern negativ. Bei zahlreichen Metallen hat der Temperaturkoeffizient einen Wert im Bereich von $4\\cdot10^{-3}\\textrm{K}^{-1}$. Bei einem Temperaturanstieg von 20 °C auf 70 °C bedeutet das einen Widerstandszuwachs von 20%. Der Temperaturkoeffizient ist keine Konstante, sondern selbst abhängig von der Temperatur.\n",
    "\n",
    "Metalle sind sogenannte *Kaltleiter*. Ihr Widerstand wächst bei steigender Temperatur, da die stärker werdenden Gitterschwingungen die Bewegung der freien Elektronen immer stärker behindern. Bei abnehmender Temperatur sinkt der Widerstand und geht in der Nähe des absoluten Temperatumullpunkts bei einigen Metallen gegen null (sogenannte Supraleitung).\n",
    "\n",
    "Untersucht wird die Kennlinie einer Glühlampe mit Metallfaden. Bei steigender Spannung wächst auch die Stromstärke, was im sehr dünnen Metallfaden zu mehr Reibung und damit Temperaturanstieg führt. Bei steigender Spannung beobachtet man eine für die jeweilige Temperatur charakteristische Farbe des Glühfadens, sie ändert sich von dunkelrot (ca. 700 °C) über hellrot (ca. 900 °C), gelb (ca. 1100 °C) bis zur beginnenden Weißglut (ab 1300 °C).\n",
    "\n",
    "Völlig anders verhalten sich *Halbleiter*. Im Gegensatz zu den Metallen haben Halbleiter nur eine\n",
    "geringe Anzahl von freien Elektronen. Durch Energiezufuhr können weitere Elektronen aus dem\n",
    "gebundenen Zustand herausgelöst werden, was die Leitfähigkeit erhöht. Eine mögliche Energiezufuhr ist Erwärmung, was die Bezeichnung Heißleiter erklärt. Bei Photo-Halbleitern wird die Energie durch elektromagnetische Wellen (Lichtwellen) zugeführt, sie werden z.B. in Belichtungsmessem von Kameras benutzt.\n",
    "\n",
    "Halbleiterbauteile können leicht zerstört werden. Bei steigender Spannung wächst die Stromstärke, was durch vermehrte Reibung zum Ansteigen der Temperatur führt. Bei steigender Temperatur wächst die Leitfähigkeit, was einen weiteren Anstieg der Stromstärke mit noch mehr Reibung und noch höherer Temperatur zur Folge hat, usw... Auf diese Weise kann es leicht zum Erreichen der Schmelztemperatur kommen, was die Zerstörung des Kristallgitters bewirkt. Belastete Halbleiter müssen daher immer Wärme abgeben können, z.B. Kühlung des Prozessors im Computer.\n",
    "\n",
    "Technisch bedeutsam sind die dotierten Halbleiter. Bei ihnen werden in das Kristallgitter eines Elements der 4. Hauptgruppe des Periodensystems (Silizium‚ Germanium) Fremdatome aus Nachbarhauptgruppen eingebaut. Verwendet man Atome aus der 5. Hauptgruppe, so kann eines der fünf Valenzelektronen nicht in die Gitterbindungen eingebaut werden, man erhält ein freies Elektron. Diese freien Elektronen bilden eine negative „Überschussladung“, es entsteht ein\n",
    "sogenannter *n-Halbleiter*. Baut man Atome aus der 3. Hauptgruppe in das Grundgitter ein, so hat jedes Fremdatom ein Elektron zu wenig für die Atombindungen des Grundgitters. Dieser „Elektronenmangel“ liefert einen sogenannten *p-Halbleiter*.\n",
    "\n",
    "Bringt man einen p-Halbleiter in Kontakt mit einem n-Halbleiter, so entsteht eine *Halbleiter-Diode*. An der Kontaktﬂäche wandern Überschusselektronen aus der n-Schicht hinüber in die p-Schicht, wo sie den Elektronenmangel ausgleichen. Beiderseits der Kontaktﬂäche entsteht eine sogenannte *Sperrschicht* ohne freie Ladungsträger, die sich wie ein Nichtleiter verhält. Verbindet man die n-Schicht mit dem Minuspol und die p-Schicht mit dem Pluspol einer Spannungsquelle, so wird die Sperrschicht abgebaut. Überschreitet die angelegte Spannung die sogenannte Schleusenspannung, so kommt ein Stromﬂuss durch die Kontaktﬂäche zustande, die *Diode leitet*. Verbindet\n",
    "man aber die n-Schicht mit dem Pluspol und die p-Schicht mit dem Minuspol einer Spannungsquelle, so wird die Sperrschicht breiter. Durch diese Schicht kann kein Strom ﬂießen, die *Diode\n",
    "sperrt*. Schließt man eine Wechselspannung an eine Diode an, so kann nur die eine Stromrichtung\n",
    "die Diode passieren, während die andere Stromrichtung verhindert wird. Die Diode wirkt als *Gleichrichter*.\n",
    "\n",
    "Ein spezieller Typ ist die Zener-Diode oder *Z-Diode*. Bei Schaltung in Sperrrichtung ﬁndet kein Stromﬂuss statt, wenn die angelegte Spannung unter der sogenannten Durchbruchspannung bleibt. Bei Überschreiten der *Durchbruchspannung* setzt ein Stromﬂuss ein, der bei kleinen Spannungsänderungen zu großen Stromänderungen führt, die Kennlinie ist also sehr steil. Man verwendet Z-Dioden daher zur Spannungsstabilisierung in Schaltungen, da die Spannung bei Stromänderungen praktisch konstant bleibt. Z-Dioden werden bezeichnet durch die Angabe ihrer Durchbruchspannung, die zugleich ihren Arbeitspunkt angibt.\n",
    "\n",
    "Große Bedeutung haben heutzutage die *Leuchtdioden* (LED), die bei Anschluss in Durchlassrichtung oberhalb einer materialtypischen Spannung sichtbares Licht emittieren. Zur Herstellung von Leuchtdioden verwendet man Verbindungen von Elementen aus der 3. Hauptgruppe mit Elementen aus der 5. Hauptgruppe, z.B Gallumarsenid., da Siliziumverbindungen kein Licht\n",
    "aussenden. Da auch Leuchtdioden wie alle Halbleiter zu Überhitzung neigen, muss ihre Temperatur begrenzt werden, z.B. durch Strombegrenzung mit Hilfe eines Vorwiderstandes. Der Praktikumsversuch verwendet zum Schutz der Leuchtdiode eine maximale Spannung.\n",
    "\n",
    "Für ausführlichere Informationen zur Temperaturabhängigkeit von Widerständen sowie zu\n",
    "Halbleitern und speziell Dioden empfehle ich Selbststudium in Lehrbüchern oder Internet.\n",
    "\n",
    "---"
   ]
  },
  {
   "cell_type": "markdown",
   "metadata": {},
   "source": [
    "### Beschreibung\n",
    "\n",
    "Stellt man die Stromstärke $I$ durch ein elektrisches Bauteil als Funktion der Spannung $U$ an diesem Bauteil graphisch dar, so erhält man die Kennlinie dieses Bauteils. Für die gleichzeitige Messung von Spannung $U$ und Stromstärke $I$ mit einem Voltmeter und einem Amperemeter gibt es zwei mögliche Anordnungen der Messgeräte in der Schaltung, die spannungsrichtige Messschaltung (Abbildung 1) und die stromrichtige Messsehaltung (Abbildung 2).\n",
    "\n",
    "![Abbildung 1-2](https://raw.githubusercontent.com/allgebrist/studienkolleg-physik-praktikum/master/Bilder/9.0.1-2.jpg)\n",
    "\n",
    "Jedes Messgerät hat einen Innenwiderstand. Der Innenwiderstand $R_{\\textrm{i,V}}$ eines Voltmeters sollte möglichst groß und der Innenwiderstand eines Amperemeters $R_{\\textrm{i,A}}$ möglichst klein sein, um die daraus folgenden Messfehler so klein wie möglich zu halten.\n",
    "\n",
    "Bei ohmschen Widerständen ist die Kennlinie eine Ursprungsgcrade, Spannung $U$ und\n",
    "Stromstärke $I$ sind zueinander proportional, der Widerstand $R = U / I$ ist konstant.\n",
    "\n",
    "Der elektrische Widerstand ist temperaturabhängig. Bei steigender Spannung $U$ wächst\n",
    "auch die Stromstärke $I$, woraus durch größer werdende Reibung ein Anstieg der Temperatur des Widerstandes folgt. Steigende Temperatur hat bei Materialien mit *positivem Temperaturkoeffizienten* eine *Zunahme des Widerstandes*, bei Stoffen mit *negativem Temperaturkoefﬁzienten* eine *Abnahme des Widerstandes* zur Folge. Zu den Stoffen mit positivem Temperaturkoefﬁzienten gehören die Metalle‚ zu den Stoffen mit negativem Temperaturkoefﬁzienten gehören die Halbleiter.\n",
    "\n",
    "---"
   ]
  },
  {
   "cell_type": "markdown",
   "metadata": {},
   "source": [
    "**Aufgabe 1.** Bei einer Glühlampe ist die Temperatur des Metallfadens abhängig von der angelegten Spannung, der Widerstand wächst wegen des positiven Temperaturkoefﬁzienten bei steigender Temperatur an. Die Kennlinie einer Glühlampe hat daher einen gekrümmten Verlauf. Bei steigender Temperatur wird der Widerstand größer, daher wird die Steigung der Kennlinie kleiner.\n",
    "\n",
    "Bauen Sie die Schaltung nach Abbildung 3 auf und messen Sie in spannungsrichtiger Schaltung 10 Wertepaare für Spannung $U$ und Stromstärke $I$ (6 Wertepaare im Bereich $0,2\\textrm{ V}$ bis $3\\textrm{ V}$ und 4 Wertepaare im Bereich $4\\textrm{ V}$ bis $10\\textrm{ V}$). Verwenden Sie am Amperemeter den Messbereich $\\textrm{mA}$.\n",
    "\n",
    "![Abbildung 3](https://raw.githubusercontent.com/allgebrist/studienkolleg-physik-praktikum/master/Bilder/9.0.3.jpg)\n",
    "\n",
    "---\n",
    "\n",
    "\n",
    "**Lösung.** Die Messungen sind in der Tabelle 1 zusammengefasst. Hierbei war der geschätzte Fehler für die Spannung- und Strommesswerte jeweils $\\Delta U = 0,04\\textrm{ V}$ und $\\Delta I = 0,1\\textrm{ mA}$.\n",
    "\n",
    "\n",
    "| Tabelle 1. |      |      |      |      |      |      |      |      |      |      |\n",
    "|---------|------|------|------|------|------|------|------|------|------|------|\n",
    "| $U$ / $\\textrm{V}$ | 0,26 | 0,49 | 0,88 | 1,5  | 2,37 | 3    | 4,5  | 6,04 | 8,17 | 9,65 |\n",
    "| $I$ / $\\textrm{mA}$ | 8,8  | 19  | 24,7 | 31,8 | 40,9 | 46,8 | 59,1 | 69,4 | 82,4 | 91,1 |\n",
    "\n",
    "---"
   ]
  },
  {
   "cell_type": "markdown",
   "metadata": {},
   "source": [
    "**Aufgabe 2.** Der Widerstand von Halbleitern ist temperaturabhängig mit einem negativen Temperaturkoefﬁzienten, weshalb der Widerstand bei steigender Temperatur kleiner wird. Außerdem\n",
    "ist der Widerstand einer Halbleiterdiode stark abhängig von der Polarität der angelegten Spannung.\n",
    "\n",
    "![Abbildung 4](https://raw.githubusercontent.com/allgebrist/studienkolleg-physik-praktikum/master/Bilder/9.0.4.jpg)\n",
    "\n",
    "Bei Schaltung in Sperrrichtung ist der Strom vernachlässigbar klein. In Durchlassrichtung\n",
    "beginnt ein Stromﬂuss erst, wenn die sogenannte Schleusenspannung $U_S$ überschritten wird. Bei weiter steigender Spannung verläuft die Kennlinie näherungsweise linear.\n",
    "\n",
    "Ersetzen Sie in der Schaltung von Abbildung 3 die Kleinglühlampe durch die Halbleiterdiode.\n",
    "Am Labortisch haben Sie an der Anschlussklemme 1 den Pluspol und an der Anschlussklemme 2 den Minuspol Ihrer Spannungsquelle. Messen Sie in Durchlassrichtung 10 Wertepaare im Bereich von $3,5\\textrm{ V}$ bis $10\\textrm{ V}$. Messen Sie darüber hinaus 3 Wertepaare in Sperrrichtung im Bereich von $1\\textrm{ V}$ bis $10\\textrm{ V}$.\n",
    "\n",
    "---\n",
    "\n",
    "**Lösung.** Die Messungen in Durchlass- und Sperrrichtung sind jeweils in den Tabellen 2.1 und 2.2 zusammengefasst. Hierbei war der geschätzte Fehler für die Spannung- und Strommesswerte jeweils $\\Delta U = 0,04\\textrm{ V}$ und $\\Delta I = 0,1\\textrm{ mA}$.\n",
    "\n",
    "\n",
    "| Tabelle 2.1. |      |      |      |      |      |      |    |      |      |      |\n",
    "|-----------|------|------|------|------|------|------|----|------|------|------|\n",
    "| $U$ / $\\textrm{V}$ | 3,58 | 4,37 | 4,85 | 5,05 | 5,32 | 6,48 | 7  | 7,36 | 8,44 | 9,66 |\n",
    "| $I$ / $\\textrm{mA}$  | 0,2  | 0,9  | 2,4  | 3,2  | 4,1  | 12,8 | 17 | 20,7 | 31,9 | 45,3 |\n",
    "\n",
    "\n",
    "| Tabelle 2.2. |      |     |    |\n",
    "|---------------|------|-----|----|\n",
    "| $U$ / $\\textrm{V}$ | 0,78 | 4,9 | 10 |\n",
    "| $I$ / $\\textrm{mA}$ | 0    | 0   | 0  |\n",
    "\n",
    "\n",
    "---"
   ]
  },
  {
   "cell_type": "markdown",
   "metadata": {},
   "source": [
    "**Aufgabe 3.** Bei einer Z-Diode oder Zenerdiode ﬂießt in Sperrrichtung ein Strom $I$, wenn die sogenannte Durchbruchsparmung oder Zenerspannung $U_Z$ überschritten wird. Sehr kleine Spannungsänderungen haben dann sehr große Stromänderung zur Folge, die Kennlinie verläuft sehr steil. Z-Dioden werden deshalb verwendet zur Stabilisierung von Spannungen bei stark schwankenden Lastströmen. Die nebenstehende Abbildung 5 zeigt die Kennlinie einer Z-Diode mit Zenerspannung $U_Z$ und Schleusenspannung $U_S$. \n",
    "\n",
    "![Abbildung 5](https://raw.githubusercontent.com/allgebrist/studienkolleg-physik-praktikum/master/Bilder/9.0.5.jpg)\n",
    "\n",
    "Ersetzen Sie in der Schaltung von Abbildung 3 die Kleinglühlampe durch die Z-Diode. Messen Sie in Durchlassrichtung 10 Wertepaare im Bereich von $0,55\\textrm{ V}$ bis $0,75\\textrm{ V}$.\n",
    "\n",
    "---\n",
    "\n",
    "**Lösung.** Die Messungen in Durchlass- und Sperrrichtung sind jeweils in den Tabellen 3.1 und 3.2 zusammengefasst. Die geschätzten Fehler für die Spannungswerte waren einerseits $\\Delta U = 0,002\\textrm{ V}$ in Durchlassrichtung und $\\Delta U = 0,02\\textrm{ V}$ in Sperrrichtung. Für die Strommesswerte war der Fehler andererseits $\\Delta I = 0,02\\textrm{ mA}$.\n",
    "\n",
    "\n",
    "| Tabelle 3.1. |       |        |        |        |        |        |        |        |        |        |\n",
    "|-------------------|-------|--------|--------|--------|--------|--------|--------|--------|--------|--------|\n",
    "| $U$ / $\\textrm{V}$ | -0,75 | -0,744 | -0,737 | -0,731 | -0,715 | -0,697 | -0,675 | -0,653 | -0,626 | -0,554 |\n",
    "| $I$ / $\\textrm{mA}$ | -68,4 | -54,3  | -42,15 | -33,2  | -18,9  | -10,55 | -5,26  | -2,64  | -1,21  | -0,19  |\n",
    "\n",
    "\n",
    "| Tabelle 3.2. |      |      |      |       |      |      |      |      |      |      |\n",
    "|---------------|------|------|------|-------|------|------|------|------|------|------|\n",
    "| $U$ / $\\textrm{V}$ | 5,03 | 5,49 | 6,03 | 6,11  | 6,17 | 6,2  | 6,22 | 6,24 | 6,27 | 6,29 |\n",
    "| $I$ / $\\textrm{mA}$ | 0,34 | 1,05 | 6,36 | 11,39 | 24,8 | 36,6 | 46,9 | 61,5 | 76,8 | 95,3 |\n",
    "\n",
    "\n",
    "---"
   ]
  },
  {
   "cell_type": "markdown",
   "metadata": {},
   "source": [
    "**Aufgabe 4.** Bei einer Leuchtdiode (LED) wird oberhalb der Schleusenspannung Licht emittiert. Bei steigender Spannung nimmt die Helligkeit der Leuchtdiode zu. Die folgenden Messungenwerden an einer roten Leuchtdiode durchgeführt.  Ersetzen Sie in der Schaltung von Aufgabe 3 die Kleinglühlampe durch die Leuchtdiode in\n",
    "*Durchlassrichtung*.\n",
    "\n",
    "---\n",
    "\n",
    "**Lösung.** Die Messungen in Durchlassrichtung ist in der Tabelle 4 zusammengefasst. Hierbei war der geschätzte Fehler für die Spannung- und Strommesswerte jeweils $\\Delta U = 0,002\\textrm{ V}$ und $\\Delta I = 0,02\\textrm{ mA}$.\n",
    "\n",
    "\n",
    "| Tabelle 4. |       |       |      |      |       |       |       |       |       |       |\n",
    "|---------|-------|-------|------|------|-------|-------|-------|-------|-------|-------|\n",
    "| $U$ / $\\textrm{V}$ | 1,813 | 1,852 | 1,88 | 1,9  | 1,942 | 1,983 | 2,059 | 2,139 | 2,227 | 2,296 |\n",
    "| $I$ / $\\textrm{mA}$ | 0,51  | 1,23  | 2,04 | 2,74 | 4,51  | 6,47  | 10,52 | 15,08 | 20,22 | 24,27 |\n",
    "\n",
    "---"
   ]
  },
  {
   "cell_type": "markdown",
   "metadata": {},
   "source": [
    "**Aufgabe 5.** Tragen Sie auf Millimeterpapier die Messwerte von Aufgabe 1 mit Fehlerrechtecken ein. Zeichnen Sie durch die Messwertrechtecke eine glatte Ausgleichskurve. Zeichnen Sie an der Stelle $U = 4\\textrm{ V}$ die Tangente an die Ausgleichskurve und bestimmen Sie aus dem Kehrwert der Tangentensteigung den differentiellen Widerstand $dU/dI$.\n",
    "\n",
    "---\n",
    "\n",
    "**Lösung.**\n",
    "\n",
    "![](https://raw.githubusercontent.com/allgebrist/studienkolleg-physik-praktikum/master/Bilder/9.1.jpg)\n",
    "\n",
    "---"
   ]
  },
  {
   "cell_type": "markdown",
   "metadata": {},
   "source": [
    "**Aufgabe 6.** Tragen Sie auf Millimeterpapier die Messwerte von Aufgabe 2 für Durchlass- und Sperrrichtung ein. Zeichnen Sie durch die Messpunkte eine glatte Ausgleichskurve. Bestimmen\n",
    "Sie für den näherungsweise linearen Bereich den differentiellen Widerstand $dU/dI$. Verlängern Sie entsprechend Abbildung 5 den linearen Bereich und bestimmen Sie aus dem Achsenschnittpunkt die Schleusenspannung $U_S$.\n",
    "\n",
    "---\n",
    "\n",
    "**Lösung.**\n",
    "\n",
    "![](https://raw.githubusercontent.com/allgebrist/studienkolleg-physik-praktikum/master/Bilder/9.2.jpg)\n",
    "\n",
    "---"
   ]
  },
  {
   "cell_type": "markdown",
   "metadata": {},
   "source": [
    "**Aufgabe 7.** Tragen Sie auf Millimeterpapier die Messwerte von Aufgabe 3 für Durchlass- und Sperrrichtung ein. Zeichnen Sie durch Ihre Messpunkte die Kennlinie entsprechend Abbildung 5. Bestimmen Sie die Zenerspannung $U_Z$ und den differentiellen Widerstand $dU/dI$ für den linearen Bereich der Kennlinie bei der Zenerspannung.\n",
    "\n",
    "---\n",
    "\n",
    "**Lösung.**\n",
    "\n",
    "![](https://raw.githubusercontent.com/allgebrist/studienkolleg-physik-praktikum/master/Bilder/9.3.jpg)\n",
    "\n",
    "---"
   ]
  },
  {
   "cell_type": "markdown",
   "metadata": {},
   "source": [
    "**Aufgabe 8.** Tragen Sie auf Millimeterpapier die Messwerte von Aufgabe 4 ein. Bestimmen Sie aus der\n",
    "Graphik die Schleusenspannung $U_S$ und schätzen Sie den absoluten Fehler $\\Delta U_S$.\n",
    "\n",
    "---\n",
    "\n",
    "**Lösung.**\n",
    "\n",
    "![](https://raw.githubusercontent.com/allgebrist/studienkolleg-physik-praktikum/master/Bilder/9.4.jpg)\n",
    "\n",
    "---"
   ]
  }
 ],
 "metadata": {
  "kernelspec": {
   "display_name": "Python 3",
   "language": "python",
   "name": "python3"
  },
  "language_info": {
   "codemirror_mode": {
    "name": "ipython",
    "version": 3
   },
   "file_extension": ".py",
   "mimetype": "text/x-python",
   "name": "python",
   "nbconvert_exporter": "python",
   "pygments_lexer": "ipython3",
   "version": "3.7.5"
  }
 },
 "nbformat": 4,
 "nbformat_minor": 4
}
