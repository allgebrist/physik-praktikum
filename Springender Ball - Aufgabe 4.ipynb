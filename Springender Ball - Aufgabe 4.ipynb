{
 "cells": [
  {
   "cell_type": "markdown",
   "metadata": {},
   "source": [
    "# Springender Ball: Aufgabe 4"
   ]
  },
  {
   "cell_type": "markdown",
   "metadata": {},
   "source": [
    "Technische Universität Berlin, Straße des 17. Juni 135, 10623 Berlin, Deutschland\n",
    "\n",
    "---\n",
    "\n",
    "**Andrii Fedoryshyn** (Kurs 348T)\n",
    "\n",
    "E-mail: andriifedoryshyn@campus.tu-berlin.de\n",
    "\n",
    "**Vasu Seghal** (Kurs 348T)\n",
    "\n",
    "E-mail: vasusehgal10611@gmail.com \n",
    "    \n",
    "**Neng Tang** (Kurs 348T)\n",
    "\n",
    "E-mail: nathantangneng@gmail.com\n",
    "\n",
    "**Allan A. Zea** (Kurs 348T)\n",
    "\n",
    "E-mail: zealobo@campus.tu-berlin.de\n",
    "\n",
    "---"
   ]
  },
  {
   "cell_type": "code",
   "execution_count": 1,
   "metadata": {},
   "outputs": [
    {
     "name": "stdout",
     "output_type": "stream",
     "text": [
      "     Event time (s)  Interval (s)      Dt  Dt1/Dt0\n",
      "0            0.5941        6.9266  6.9266   0.0567\n",
      "1            7.5208        0.3924  0.3924   0.8454\n",
      "2            7.9132        0.3318  0.3318   0.8541\n",
      "3            8.2450        0.2834  0.2834   0.8683\n",
      "4            8.5284        0.2460  0.2460   0.8880\n",
      "..              ...           ...     ...      ...\n",
      "402        290.1924        0.1878  0.1878   0.8202\n",
      "403        290.3802        0.1540  0.1540   0.8341\n",
      "404        290.5343        0.1285  0.1285   1.5614\n",
      "405        290.6628        0.2006  0.2006      NaN\n",
      "406        290.8634        0.0000     NaN      NaN\n",
      "\n",
      "[407 rows x 4 columns]\n"
     ]
    }
   ],
   "source": [
    "import pandas\n",
    "import numpy as np\n",
    "import matplotlib.pyplot as plt\n",
    "\n",
    "tabelle = pandas.read_csv('Daten/springenderball.csv')\n",
    "print(tabelle)"
   ]
  },
  {
   "cell_type": "code",
   "execution_count": 2,
   "metadata": {},
   "outputs": [
    {
     "data": {
      "text/html": [
       "<div>\n",
       "<style scoped>\n",
       "    .dataframe tbody tr th:only-of-type {\n",
       "        vertical-align: middle;\n",
       "    }\n",
       "\n",
       "    .dataframe tbody tr th {\n",
       "        vertical-align: top;\n",
       "    }\n",
       "\n",
       "    .dataframe thead th {\n",
       "        text-align: right;\n",
       "    }\n",
       "</style>\n",
       "<table border=\"1\" class=\"dataframe\">\n",
       "  <thead>\n",
       "    <tr style=\"text-align: right;\">\n",
       "      <th></th>\n",
       "      <th>Event time (s)</th>\n",
       "      <th>Interval (s)</th>\n",
       "      <th>Dt</th>\n",
       "      <th>Dt1/Dt0</th>\n",
       "    </tr>\n",
       "  </thead>\n",
       "  <tbody>\n",
       "    <tr>\n",
       "      <th>1</th>\n",
       "      <td>7.5208</td>\n",
       "      <td>0.3924</td>\n",
       "      <td>0.3924</td>\n",
       "      <td>0.8454</td>\n",
       "    </tr>\n",
       "    <tr>\n",
       "      <th>2</th>\n",
       "      <td>7.9132</td>\n",
       "      <td>0.3318</td>\n",
       "      <td>0.3318</td>\n",
       "      <td>0.8541</td>\n",
       "    </tr>\n",
       "    <tr>\n",
       "      <th>3</th>\n",
       "      <td>8.2450</td>\n",
       "      <td>0.2834</td>\n",
       "      <td>0.2834</td>\n",
       "      <td>0.8683</td>\n",
       "    </tr>\n",
       "    <tr>\n",
       "      <th>4</th>\n",
       "      <td>8.5284</td>\n",
       "      <td>0.2460</td>\n",
       "      <td>0.2460</td>\n",
       "      <td>0.8880</td>\n",
       "    </tr>\n",
       "    <tr>\n",
       "      <th>5</th>\n",
       "      <td>8.7744</td>\n",
       "      <td>0.2185</td>\n",
       "      <td>0.2185</td>\n",
       "      <td>0.8865</td>\n",
       "    </tr>\n",
       "    <tr>\n",
       "      <th>...</th>\n",
       "      <td>...</td>\n",
       "      <td>...</td>\n",
       "      <td>...</td>\n",
       "      <td>...</td>\n",
       "    </tr>\n",
       "    <tr>\n",
       "      <th>401</th>\n",
       "      <td>290.0867</td>\n",
       "      <td>0.1058</td>\n",
       "      <td>0.1058</td>\n",
       "      <td>1.7760</td>\n",
       "    </tr>\n",
       "    <tr>\n",
       "      <th>402</th>\n",
       "      <td>290.1924</td>\n",
       "      <td>0.1878</td>\n",
       "      <td>0.1878</td>\n",
       "      <td>0.8202</td>\n",
       "    </tr>\n",
       "    <tr>\n",
       "      <th>403</th>\n",
       "      <td>290.3802</td>\n",
       "      <td>0.1540</td>\n",
       "      <td>0.1540</td>\n",
       "      <td>0.8341</td>\n",
       "    </tr>\n",
       "    <tr>\n",
       "      <th>404</th>\n",
       "      <td>290.5343</td>\n",
       "      <td>0.1285</td>\n",
       "      <td>0.1285</td>\n",
       "      <td>1.5614</td>\n",
       "    </tr>\n",
       "    <tr>\n",
       "      <th>405</th>\n",
       "      <td>290.6628</td>\n",
       "      <td>0.2006</td>\n",
       "      <td>0.2006</td>\n",
       "      <td>NaN</td>\n",
       "    </tr>\n",
       "  </tbody>\n",
       "</table>\n",
       "<p>380 rows × 4 columns</p>\n",
       "</div>"
      ],
      "text/plain": [
       "     Event time (s)  Interval (s)      Dt  Dt1/Dt0\n",
       "1            7.5208        0.3924  0.3924   0.8454\n",
       "2            7.9132        0.3318  0.3318   0.8541\n",
       "3            8.2450        0.2834  0.2834   0.8683\n",
       "4            8.5284        0.2460  0.2460   0.8880\n",
       "5            8.7744        0.2185  0.2185   0.8865\n",
       "..              ...           ...     ...      ...\n",
       "401        290.0867        0.1058  0.1058   1.7760\n",
       "402        290.1924        0.1878  0.1878   0.8202\n",
       "403        290.3802        0.1540  0.1540   0.8341\n",
       "404        290.5343        0.1285  0.1285   1.5614\n",
       "405        290.6628        0.2006  0.2006      NaN\n",
       "\n",
       "[380 rows x 4 columns]"
      ]
     },
     "execution_count": 2,
     "metadata": {},
     "output_type": "execute_result"
    }
   ],
   "source": [
    "tabelle[tabelle[\"Dt\"] < 1]"
   ]
  },
  {
   "cell_type": "code",
   "execution_count": 3,
   "metadata": {},
   "outputs": [
    {
     "data": {
      "text/plain": [
       "[<matplotlib.lines.Line2D at 0x7fee27b9ea50>]"
      ]
     },
     "execution_count": 3,
     "metadata": {},
     "output_type": "execute_result"
    },
    {
     "data": {
      "image/png": "[encoded data removed]",
      "text/plain": [
       "<Figure size 864x288 with 2 Axes>"
      ]
     },
     "metadata": {
      "needs_background": "light"
     },
     "output_type": "display_data"
    }
   ],
   "source": [
    "fig, axs = plt.subplots(1, 2, figsize = (12, 4))\n",
    "\n",
    "axs[0].plot(tabelle[\"Dt\"], 'ro')\n",
    "axs[1].plot(tabelle[\"Dt1/Dt0\"], 'ro')"
   ]
  },
  {
   "cell_type": "code",
   "execution_count": 4,
   "metadata": {},
   "outputs": [
    {
     "data": {
      "text/plain": [
       "[<matplotlib.lines.Line2D at 0x7fee27b9efd0>]"
      ]
     },
     "execution_count": 4,
     "metadata": {},
     "output_type": "execute_result"
    },
    {
     "data": {
      "image/png": "[encoded data removed]",
      "text/plain": [
       "<Figure size 864x288 with 2 Axes>"
      ]
     },
     "metadata": {
      "needs_background": "light"
     },
     "output_type": "display_data"
    }
   ],
   "source": [
    "fig, axs = plt.subplots(1, 2, figsize = (12, 4))\n",
    "\n",
    "axs[0].plot(tabelle[\"Dt\"][tabelle[\"Dt\"] < 1], 'ro')\n",
    "axs[1].plot(tabelle[\"Dt1/Dt0\"][tabelle[\"Dt1/Dt0\"] < 1], 'ro')"
   ]
  },
  {
   "cell_type": "code",
   "execution_count": 5,
   "metadata": {},
   "outputs": [
    {
     "name": "stdout",
     "output_type": "stream",
     "text": [
      "0      0.003215\n",
      "1      0.714701\n",
      "2      0.729487\n",
      "3      0.753945\n",
      "4      0.788544\n",
      "         ...   \n",
      "400    0.808021\n",
      "401    3.154176\n",
      "402    0.672728\n",
      "403    0.695723\n",
      "404    2.437970\n",
      "Name: Dt1/Dt0, Length: 375, dtype: float64\n"
     ]
    },
    {
     "data": {
      "text/plain": [
       "(0.5, 1)"
      ]
     },
     "execution_count": 5,
     "metadata": {},
     "output_type": "execute_result"
    },
    {
     "data": {
      "image/png": "[encoded data removed]",
      "text/plain": [
       "<Figure size 432x288 with 1 Axes>"
      ]
     },
     "metadata": {
      "needs_background": "light"
     },
     "output_type": "display_data"
    }
   ],
   "source": [
    "a = (tabelle[\"Dt\"][tabelle[\"Dt\"] < 0.4])**2\n",
    "b = (tabelle[\"Dt1/Dt0\"][tabelle[\"Dt1/Dt0\"] < 2.55])**2\n",
    "print(b)\n",
    "plt.plot(a, b, 'ro', markersize = 4, markeredgewidth = 0.5)\n",
    "plt.ylim(bottom = 0.5, top = 1)"
   ]
  },
  {
   "cell_type": "code",
   "execution_count": 6,
   "metadata": {},
   "outputs": [
    {
     "data": {
      "text/plain": [
       "[<matplotlib.lines.Line2D at 0x7fee279d1fd0>]"
      ]
     },
     "execution_count": 6,
     "metadata": {},
     "output_type": "execute_result"
    },
    {
     "data": {
      "image/png": "[encoded data removed]",
      "text/plain": [
       "<Figure size 432x288 with 1 Axes>"
      ]
     },
     "metadata": {
      "needs_background": "light"
     },
     "output_type": "display_data"
    }
   ],
   "source": [
    "def theoriefunktion(x, k, f):\n",
    "    return (k**2)*(1-(f**2)*(x**2))\n",
    "\n",
    "k, f = 0.8, 0.9\n",
    "x = np.linspace(0, 1)\n",
    "plt.plot(x, theoriefunktion(x, k, f))"
   ]
  },
  {
   "cell_type": "code",
   "execution_count": 7,
   "metadata": {},
   "outputs": [
    {
     "data": {
      "text/plain": [
       "[<matplotlib.lines.Line2D at 0x7fee27a91050>]"
      ]
     },
     "execution_count": 7,
     "metadata": {},
     "output_type": "execute_result"
    },
    {
     "data": {
      "image/png": "[encoded data removed]",
      "text/plain": [
       "<Figure size 432x288 with 1 Axes>"
      ]
     },
     "metadata": {
      "needs_background": "light"
     },
     "output_type": "display_data"
    }
   ],
   "source": [
    "a = (tabelle[\"Dt\"][tabelle[\"Dt\"] < 0.4])**2\n",
    "b = (tabelle[\"Dt1/Dt0\"][tabelle[\"Dt1/Dt0\"] < 2.55])**2\n",
    "\n",
    "plt.plot(a, b, 'bo', markersize = 4, markeredgewidth = 0.5)\n",
    "plt.ylim(bottom = 0.5, top = 1)\n",
    "\n",
    "k, f = 0.96, 0.9\n",
    "x = np.linspace(0, 0.4)\n",
    "plt.plot(x**2, theoriefunktion(x, k, f)**2, 'r-')"
   ]
  }
 ],
 "metadata": {
  "kernelspec": {
   "display_name": "Python 3",
   "language": "python",
   "name": "python3"
  },
  "language_info": {
   "codemirror_mode": {
    "name": "ipython",
    "version": 3
   },
   "file_extension": ".py",
   "mimetype": "text/x-python",
   "name": "python",
   "nbconvert_exporter": "python",
   "pygments_lexer": "ipython3",
   "version": "3.7.5"
  }
 },
 "nbformat": 4,
 "nbformat_minor": 4
}
