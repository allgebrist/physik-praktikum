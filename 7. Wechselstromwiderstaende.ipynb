{
 "cells": [
  {
   "cell_type": "markdown",
   "metadata": {},
   "source": [
    "# Wechselstromwiderstände"
   ]
  },
  {
   "cell_type": "markdown",
   "metadata": {},
   "source": [
    "Technische Universität Berlin, Straße des 17. Juni 135, 10623 Berlin, Deutschland\n",
    "\n",
    "---\n",
    "    \n",
    "**Vladimir Lazarev** (Kurs 348T)\n",
    "\n",
    "E-mail: lazarev.vowa2012@ya.ru\n",
    "\n",
    "**Allan A. Zea** (Kurs 348T)\n",
    "\n",
    "E-mail: zealobo@campus.tu-berlin.de\n",
    "\n",
    "**Andrei Zharski** (Kurs 348T)\n",
    "\n",
    "E-mail: andrei.zharski@gmail.com\n",
    "\n",
    "---"
   ]
  },
  {
   "cell_type": "markdown",
   "metadata": {},
   "source": [
    "### Vorbemerkungen zum Versuch\n",
    "\n",
    "Bei einer Gleichspannung ist $U(t) = U = const$. \n",
    "Bei einer Wechselspannung ändert sich die Stromrichtung periodisch mit einer Frequenz $f$ bzw. Kreisfrequenz $\\omega = 2\\pi f = 2 \\pi / T$. Bei der häufigsten Wechselspannung ändern sich Spannung und Stromstärke sinusförmig im Verlauf der Zeit: \n",
    "\n",
    "\\begin{equation}\n",
    "u(t) = u_{\\textrm{max}}\\sin(\\omega t + \\phi_0) \\qquad \\qquad i(t) = i_{\\textrm{max}} \\sin(\\omega t + \\phi_0) \n",
    "\\end{equation}\n",
    "\n",
    "mit der Maximalspannung $u_{\\textrm{max}}$, dem Maximalstrom $i_{\\textrm{max}}$ und einem Anfangsphasenwinkel $\\phi_0$, der bei $u(t)$ und $i(t)$ unterschiedlch sein kann. Mit Voltmeter und Amperemeter werden nicht die Maximalwerte von Spannung und Stromstärke gemessen, sondern ihre Effektivwerte $U$ und $I$, die den Werten einer Gleichspannung gleicher Leistung entsprechen. Fur die Effektivwerte gelten die Beziehungen\n",
    "\n",
    "\\begin{equation}\n",
    "U = \\frac{u_{\\textrm{max}}}{\\sqrt2} = 0,707 u_{\\textrm{max}} \\qquad \\qquad I = \\frac{i_{\\textrm{max}}}{\\sqrt2} = 0,707 i_{\\textrm{max}}\n",
    "\\end{equation}\n",
    "\n",
    "Bei einem an eine Gleichspannungsquelle angeschlossenen Kondensator fließt nur während des Aufladens ein elektrischer Strom. Zwischen den Kondensatorplatten besteht keine leitende Verbindung, daher ist der Widerstand unendlich groß. Beim Entladen des Kondensators fließt ebenfalls ein elektrischer Strom. \n",
    "\n",
    "Beim Anschluss eines Kondensators an eine Wechselspannungsquelle wird der Kondensator periodisch aufgeladen und entladen, was fortwährend von einem Amperemeter gemessen werden kann. Bei jeder Aufladung (Entladung) wird die gleiche Ladungsmenge transportiert, wodurch die gemessene Stromstärke proportional zur Frequenz der Wechselspannung ansteigt. Aus $q=C\\cdot u$ und $u(t) = u_{\\textrm{max}}\\sin(\\omega t)$ folgt für die zeitabhangige Stromstärke am Kondensator \n",
    "\n",
    "\\begin{aligned}\n",
    "    i(t) &= \\frac{dq}{dt} \\\\\n",
    "         &= C \\frac{du}{dt} \\\\\n",
    "         &= C \\frac{d(u_{\\textrm{max}}\\sin(\\omega t))}{dt}\\\\\n",
    "         &= \\omega\\cdot C\\cdot u_{\\textrm{max}} \\cos(\\omega t),\n",
    "\\end{aligned}\n",
    "\n",
    "mit $\\omega\\cdot C\\cdot u_{\\textrm{max}}=i_{\\textrm{max}}$.\n",
    "\n",
    "Der Quotient $u_{\\textrm{max}}/i_{\\textrm{max}}$ liefert den kapazitiven Blindwiderstand $X_c$ des Kondensators \n",
    "\n",
    "\\begin{equation}\n",
    "    X_c = \\frac{u_{\\textrm{max}}}{i_{\\textrm{max}}}\n",
    "        = \\frac{U}{I}\n",
    "        = \\frac{1}{\\omega C}\n",
    "        = \\frac{1}{2\\pi f C}.\n",
    "\\end{equation}\n",
    "\n",
    "Der kapazitive Blindwiderstand $X_c$ ist also umgekehrt proportional zur Frequenz $f$ der Wechselspannung. \n",
    "\n",
    "Beim Anschluss einer langen Spule mit vernachlässigbar kleinem ohmschen Widerstand an eine Wechselspannungsquelle fließt durch die Spule ein sich periodisch ändernder Strom, der einen sich periodisch ändernden magnetischen Fluss zur Folge hat. Für den magnetischen Fluss gilt\n",
    "\n",
    "\\begin{aligned}\n",
    "    \\Phi &= B\\cdot A \\\\\n",
    "         &= \\mu_0\\mu_r H\\cdot A \\\\\n",
    "         &= \\mu_0\\mu_r \\frac{N\\cdot I\\cdot A}{l}\n",
    "\\end{aligned}\n",
    "\n",
    "Eingesetzt ins Induktionsgesetz erhält man mit $i(t)=i_\\textrm{max}\\sin(\\omega t)$\n",
    "\n",
    "\\begin{aligned}\n",
    "    u(t) &= -N \\frac{d\\Phi}{dt}\\\\\n",
    "         &= -\\left(\\mu_0\\mu_r \\frac{N\\cdot I\\cdot A}{l}\\right)\\cdot \\frac{dI}{dt}\\\\\n",
    "         &= -L \\frac{dI}{dt}\\\\\n",
    "         &= -L \\frac{d(i_\\textrm{max}\\sin(\\omega t))}{dt}\\\\\n",
    "         &= -\\omega\\cdot L\\cdot i_\\textrm{max}\\cos(\\omega t),\n",
    "\\end{aligned}\n",
    "\n",
    "wobei $\\omega\\cdot L\\cdot i_\\textrm{max}=u_\\textrm{max}$ und $L$ die Induktivität der Spule ist.\n",
    "\n",
    "Der Quotient $u_{\\textrm{max}}/i_{\\textrm{max}}$ liefert den induktiven Blindwiderstand $X_L$ der Spule \n",
    "\n",
    "\\begin{equation}\n",
    "    X_L=\\frac{u_{\\textrm{max}}}{i_{\\textrm{max}}}=\\frac{U}{I}=\\omega L= 2\\pi f L.\n",
    "\\end{equation}\n",
    "\n",
    "Der induktive Blindwiderstand $X_L$ ist also proportional zur Frequenz $f$ der Wechselspannung. \n",
    "\n",
    "---"
   ]
  },
  {
   "cell_type": "markdown",
   "metadata": {},
   "source": [
    "### Frequenzabhängigkeit von Widerständen  \n",
    "\n",
    "Bei Anschluss an eine Wechselspannung, z.B. eine sinusförmige Wechselspannung $U(t) = U_\\textrm{max} \\sin(\\omega t-\\phi_0)$ mit der Kreisfrequenz $\\omega=2\\pi f$, zeigen einige elektrische Bauteile ein anderes Verhalten als bei Anschluss an eine konstante Gleichspannung $U$.\n",
    "\n",
    "\n",
    "Ein Kondensator zeigt nach Beendigung des Aufladevorganges mit einer Gleichspannung $U$ keinen Stromfluss, also einen unendlich großen Widerstand. Verbindet man den Kondensator mit einer Wechselspannung $U(t)$, so wird er periodisch aufgeladen und entladen und umgepolt wieder aufgeladen und wieder entladen und wieder... Ein Amperemeter zeigt daher eine Stromstärke $I$ an. Erhöht man die Frequenz $f$ der Wechselspannung, so wird der Kondensator pro Zeitintervall häufiger aufgeladen und entladen, das Amperemeter zeigt einen größeren Strom $I$ an. Da bei konstanter Spannung $U$ die Stromstärke mit steigender Frequenz wächst, nimmt also der Widerstand bei steigender Frequenz ab. Der Quotient aus Spannung $U$ und Stromstärke $I$ heißt bei frequenzabhängigen Widerständen Blindwiderstand $X$: \n",
    "\n",
    "\\begin{equation}\n",
    "    X=\\frac{U}{I}\n",
    "\\end{equation}\n",
    "\n",
    "Dabei sind $U$ und $I$ die von Messgeräten angezeigten sogenannten Effektivwerte. \n",
    "\n",
    "Für die Frequenzabhängigkeit des Blindwiderstandes $X_C$ eines Kondensators gilt \n",
    "\n",
    "\\begin{equation}\n",
    "    X_C=\\frac{1}{\\omega C}=\\frac{1}{2\\pi f C}.\n",
    "\\end{equation}\n",
    "\n",
    "Schließt man eine Spule der Induktivität $L$ an eine Wechselspannungsquelle an, so zeigt auch die Spule einen frequenzabhängigen Blindwiderstand $X_L$. Dieser ist Folge der in der Spule induzierten Selbstinduktionsspannung, die bei steigender Frequenz wegen der schnelleren Stromstärkeänderungen immer größer wird, was ein Anwachsen des Blindwiderstandes $X_L$ bei steigender Frequenz zur Folge hat. Für die Frequenzabhängigkeit des Blindwiderstandes $X_L$ einer Spule gilt \n",
    "\n",
    "\\begin{equation}\n",
    "    X_L=\\omega L=2\\pi f L.\n",
    "\\end{equation}\n",
    "\n",
    "Bei einem ohmschen Widerstand findet man bei Anschluss an eine Wechselspannunsquelle keine Abhängigkeit des Widerstandes $R$ von der Frequenz $f$ der Wechselspannung, es gilt der bekannte Zusammenhang \n",
    "\n",
    "\\begin{equation}\n",
    "    R = \\frac{U}{I}.\n",
    "\\end{equation}"
   ]
  },
  {
   "cell_type": "markdown",
   "metadata": {},
   "source": [
    "---\n",
    "\n",
    "**Aufgabe 1.** Messung von Spannung $U$ und Stromstärke $I$ an einem ohmschen Widerstand in Abhängigkeit von der Frequenz $f$ der angelegten Wechselspannung. Die geschätzten Messfehler für den Versuch waren $\\Delta U = 0,02 \\textrm{ V}$ für die Spannung und $\\Delta I = 0,08 \\textrm{ mA}=0,00008 \\textrm{ A}$ für die Stromstärke. \n",
    "\n",
    "|  |         |         |         |         |         |         |         |         |         |         |\n",
    "|-----------|---------|---------|---------|---------|---------|---------|---------|---------|---------|---------|\n",
    "| $f$ / $\\textrm{Hz}$ |  100,00 |  200,00  |  300,00  |  400,00  |  500,00  |  600,00  |  800,00  |  1000,00  |  1200,00  |  1400,00  |\n",
    "| $U$ / $\\textrm{V}$ | 5,59 | 4,99 | 5,10 | 5,21 | 5,04 | 4,73 | 4,97 | 5,22 | 5,13 | 4,77  |\n",
    "| $I$ / $\\textrm{mA}$ | 2,55 | 2,30 | 2,30 | 2,35 | 2,30 | 2,15 | 2,25 | 2,40 | 2,35 | 2,20 |\n",
    "| $R$ / $\\Omega$  | 2192,16 | 2169,57 | 2217,39 | 2217,02 | 2191,30 | 2200,00 | 2208,89 | 2175,00 | 2182,98 | 2168,18 |"
   ]
  },
  {
   "cell_type": "markdown",
   "metadata": {},
   "source": [
    "---\n",
    "\n",
    "**Aufgabe 2.**  Messung von Spannung $U$ und Stromstärke $I$ an einer Spule in Abhängigkeit von der Frequenz $f$ der angelegten Wechselspannung. Die geschätzten Messfehler für den Versuch waren $\\Delta U = 0,02 \\textrm{ V}$ für die Spannung und $\\Delta I = 0,4 \\textrm{ mA}=0,0004 \\textrm{ A}$ für die Stromstärke. Die Induktivität und der Widerstand waren beziehungsweise $L=(50\\pm 5\\%)\\textrm{ mH}$ und $R=(45\\pm 5\\%) \\Omega$ nach Herstellerangabe.\n",
    "\n",
    "Zur Bestimmung der Randwerte $(U/I)_{\\textrm{max, min}}$ verwendeten die nachfolgende Gleichung:\n",
    "\n",
    "\\begin{aligned}\n",
    "    (U/I)_{\\textrm{max, min}}&=\\frac{U}{I}\\pm\\Delta\\left(\\frac{U}{I}\\right)\\\\\n",
    "                        &=\\frac{U}{I}\\pm\\frac{U}{I}\\cdot\\delta\\left(\\frac{U}{I}\\right)\\\\\n",
    "                        &=\\frac{U}{I}\\pm\\frac{U}{I}\\cdot\\left(\\delta U+\\delta I\\right)\\\\\n",
    "                        &=\\frac{U}{I}\\pm\\frac{U}{I}\\cdot\\left(\\frac{\\Delta U}{U}+\\frac{\\Delta I}{I}\\right).\n",
    "\\end{aligned}"
   ]
  },
  {
   "cell_type": "markdown",
   "metadata": {},
   "source": [
    "|     &nbsp;&nbsp;&nbsp;&nbsp;&nbsp;&nbsp;&nbsp;&nbsp;&nbsp;&nbsp;&nbsp;&nbsp;&nbsp;&nbsp;&nbsp;&nbsp;&nbsp;&nbsp;&nbsp;&nbsp;      |         |        |         |         |        |        |        |        |\n",
    "|--------------|---------|---------|---------|---------|--------|--------|--------|--------|\n",
    "| $f$ / $\\textrm{Hz}$       | 1400,00 | 1100,00 | 800,00  | 600,00  | 400,00 | 300,00 | 200,00 | 100,00 |\n",
    "| $U$ / $\\textrm{V}$        | 7,49    | 7,45    | 7,36    | 7,22    | 6,87   | 6,45   | 4,83   | 2,55   |\n",
    "| $I$ / $\\textrm{mA}$       | 3,30    | 4,00    | 5,50    | 7,00    | 10,00  | 12,50  | 14,00  | 14,30  |\n",
    "| $U/I$ / $\\Omega$      | 2269,70 | 1862,50 | 1338,18 | 1031,43 | 687,00 | 516,00 | 345,00 | 178,32 |\n",
    "| $(U/I)_{\\textrm{max}}$ / $\\Omega$ | 2550,87 | 2053,75 | 1439,14 | 1093,22 | 716,48 | 534,11 | 356,29 | 184,71 |\n",
    "| $(U/I)_{\\textrm{min}}$ / $\\Omega$ | 1988,52 | 1671,25 | 1237,22 | 969,63  | 657,52 | 497,89 | 333,71 | 171,94 |\n",
    "| $\\Delta(U/I)$       | 281,18  | 191,25  | 100,96  | 61,80   | 29,48  | 18,11  | 11,29  | 6,39   |\n"
   ]
  },
  {
   "cell_type": "markdown",
   "metadata": {},
   "source": [
    "---\n",
    "\n",
    "**Aufgabe 3.**  Messung von Spannung $U$ und Stromstärke $I$ an einem Kondensator in Abhängigkeit von der Frequenz $f$ der angelegten Wechselspannung. Die geschätzten Messfehler für den Versuch waren $\\Delta U = 0,02 \\textrm{ V}$ für die Spannung und $\\Delta I = 0,1 \\textrm{ mA}=0,0001 \\textrm{ A}$ für die Stromstärke. Die Kapazität $C=(0,22\\pm 5\\%)\\mu\\textrm{F}$.\n",
    "\n",
    "\\begin{aligned}\n",
    "    X_{C_\\textrm{max, min}}=\\frac{U}{I}\\pm\\frac{U}{I}\\cdot\\left(\\frac{\\Delta U}{U}+\\frac{\\Delta I}{I}\\right)\n",
    "\\end{aligned}"
   ]
  },
  {
   "cell_type": "markdown",
   "metadata": {},
   "source": [
    "| &nbsp;&nbsp;&nbsp;&nbsp;&nbsp;&nbsp;&nbsp;&nbsp;&nbsp;&nbsp;&nbsp;&nbsp;&nbsp;&nbsp;&nbsp;&nbsp;&nbsp;&nbsp;&nbsp;&nbsp;    |         |         |         |         |         |         |         |         |\n",
    "|-------------|---------|---------|---------|---------|---------|---------|---------|---------|\n",
    "| $f$ / $\\textrm{Hz}$      | 80,00   | 100,00  | 133,00  | 200,00  | 333,00  | 500,00  | 625,00  | 1000,00 |\n",
    "| $U$ / $\\textrm{V}$        | 7,55    | 7,53    | 7,48    | 7,34    | 5,93    | 4,07    | 3,20    | 1,98    |\n",
    "| $I$ / $\\textrm{mA}$     | 0,90    | 1,10    | 1,50    | 2,10    | 2,80    | 2,90    | 2,90    | 2,90    |\n",
    "| $X_c$ / $\\Omega$       | 8388,89 | 6845,45 | 4986,67 | 3495,24 | 2117,86 | 1403,45 | 1103,45 | 682,76  |\n",
    "| $X_{c_{\\textrm{max}}}$ / $\\Omega$   | 9343,21 | 7485,95 | 5332,44 | 3671,20 | 2200,64 | 1458,74 | 1148,39 | 713,20  |\n",
    "| $X_{c_{\\textrm{min}}}$ / $\\Omega$  | 7434,57 | 6204,96 | 4640,89 | 3319,27 | 2035,08 | 1348,16 | 1058,50 | 652,32  |\n",
    "| $f^{-1}$ / $\\textrm{ms}$     | 12,50   | 10,00   | 7,52    | 5,00    | 3,00    | 2,00    | 1,60    | 1,00    |\n"
   ]
  },
  {
   "cell_type": "markdown",
   "metadata": {},
   "source": [
    "---\n",
    "\n",
    "**Aufgabe 4.**  Berechnen Sie mit Gleichung (4) für die Messungen von Aufgabe 1 jeweils den ohmschen Widerstand $R$ und tragen Sie die Werte in die vorgesehene Tabellenzeile ein. Berechnen Sie dann den Mittelwert $\\overline{R}$, die Standardabweichung $\\sigma$ und den mittleren Fehler des Mittelwertes. Vergleichen Sie Ihr Ergebnis mit der Herstellerangabe."
   ]
  },
  {
   "cell_type": "markdown",
   "metadata": {},
   "source": [
    "---\n",
    "\n",
    "**Aufgabe 5.** Berechnen Sie mit Gleichung (1) für die Messungen von Aufgabe 2 jeweils den Quotienten $U/I$ und tragen Sie die Werte in die vorgesehene Tabellenzeile ein. Berechnen Sie außerdem die Quotienten $(U/I)_\\textrm{max}$ und $(U/I)_\\textrm{min}$ unter Verwendung der Messfehler $\\Delta U$ und $\\Delta I$ und tragen Sie die Werte in die entsprechenden Zeilen der Tabelle ein. Zeichnen Sie in ein Koordinatensystem die Werte von $U/I$ ein mit Fehlerintervallen (Vorschlag für Zeichenmaßstab: $f$-Achse $1\\textrm{ cm}\\cong 100\\textrm{ Hz}$; $U/I$-Achse $1\\textrm{ cm}\\cong 100 \\Omega$). Zeichnen Sie in die Graphik die Ausgleichsgerade und die Grenzgeraden als Ursprungsgeraden ein und bestimmen Sie aus den Steigungen mit Gleichung (3) die Induktivität $L$ mit Fehler. Vergleichen Sie Ihr Ergebnis mit der Herstellerangabe. Kann der Quotient $U/I$ bei $f=0\\textrm{ Hz}$ den Wert null haben? \n",
    "\n",
    "\n",
    "\n",
    "![](https://raw.githubusercontent.com/allgebrist/studienkolleg-physik-praktikum/master/Bilder/7.1.png)"
   ]
  },
  {
   "cell_type": "markdown",
   "metadata": {},
   "source": [
    "---\n",
    "\n",
    "**Aufgabe 6.**  Berechnen Sie mit Gleichung (1) für die Messungen von Aufgabe 3 jeweils den kapazitiven Blindwiderstand $X_C$ und tragen Sie die Werte in die vorgesehene Tabellenzeile ein. Berechnen Sie außerdem die Werte $X_{C_\\textrm{max}}$ und $X_{C_\\textrm{min}} $ unter Verwendung der Messfehler $\\Delta U$ und $\\Delta I$ und tragen Sie die Werte in die entsprechenden Zeilen der Tabelle ein. Berechnen Sie die Kehrwerte der verwendeten Frequenzen und tragen Sie die Werte in die Tabellenzeile $f^{-1}$ ein. Zeichnen Sie die Werte von $X_C$ mit Fehlerintervallen als Funktion von $f^{-1}$ in ein geeignetes Koordinatensystem ein (Vorschlag für Zeichenmaßstab: $f^{-1}$-Achse $1\\textrm{ cm}\\cong 0,5\\textrm{ ms}$; $X_C$-Achse $1\\textrm{ cm}\\cong 500\\Omega$). Zeichnen Sie nun die Ausgleichs-gerade und die Grenzgeraden als Ursprungsgeraden ein und berechnen Sie aus den Steigungen mit Gleichung (2) die Kapazität $C$ mit Fehler. Vergleichen Sie Ihr Ergebnis mit der Herstellerangabe. \n",
    "\n",
    "![](https://raw.githubusercontent.com/allgebrist/studienkolleg-physik-praktikum/master/Bilder/7.2.png)"
   ]
  },
  {
   "cell_type": "code",
   "execution_count": null,
   "metadata": {},
   "outputs": [],
   "source": []
  }
 ],
 "metadata": {
  "kernelspec": {
   "display_name": "Python 3",
   "language": "python",
   "name": "python3"
  },
  "language_info": {
   "codemirror_mode": {
    "name": "ipython",
    "version": 3
   },
   "file_extension": ".py",
   "mimetype": "text/x-python",
   "name": "python",
   "nbconvert_exporter": "python",
   "pygments_lexer": "ipython3",
   "version": "3.7.5"
  }
 },
 "nbformat": 4,
 "nbformat_minor": 4
}
