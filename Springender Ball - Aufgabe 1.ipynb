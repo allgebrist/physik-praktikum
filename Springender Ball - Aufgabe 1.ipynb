{
 "cells": [
  {
   "cell_type": "markdown",
   "metadata": {},
   "source": [
    "# Springender Ball: Aufgabe 2"
   ]
  },
  {
   "cell_type": "markdown",
   "metadata": {},
   "source": [
    "Technische Universität Berlin, Straße des 17. Juni 135, 10623 Berlin, Deutschland\n",
    "\n",
    "---\n",
    "\n",
    "**Andrii Fedoryshyn** (Kurs 348T)\n",
    "\n",
    "E-mail: andriifedoryshyn@campus.tu-berlin.de\n",
    "\n",
    "**Vasu Seghal** (Kurs 348T)\n",
    "\n",
    "E-mail: vasusehgal10611@gmail.com \n",
    "    \n",
    "**Neng Tang** (Kurs 348T)\n",
    "\n",
    "E-mail: nathantangneng@gmail.com\n",
    "\n",
    "**Allan A. Zea** (Kurs 348T)\n",
    "\n",
    "E-mail: zealobo@campus.tu-berlin.de\n",
    "\n",
    "---"
   ]
  },
  {
   "cell_type": "markdown",
   "metadata": {},
   "source": [
    "**Aufgabe (a).**  Berechnen Sie allgemein: $v_n$ , $h_n$ , $v_{n+1}/v_n$. "
   ]
  },
  {
   "cell_type": "markdown",
   "metadata": {},
   "source": [
    "**Lösung.** \n",
    "\n",
    "\\begin{equation}\n",
    "    v_n=(-k)^n v_0; \\qquad h_n=\\frac{k^{2n}}{2}\\frac{v_0}{q}; \\qquad \\frac{v_{n+1}}{v_n}=\\frac{(-k)^{n+1} v_0}{(-k)^n v_0}=-k.\n",
    "\\end{equation}\n",
    "\n",
    "---"
   ]
  },
  {
   "cell_type": "markdown",
   "metadata": {},
   "source": [
    "**Aufgabe (b).** Wohin verschwindet die Energiedifferenz?\n",
    "\n",
    "**Lösung.** Während der Stoß ist die Energie durch Deformation des Körpers und Verlust durch Hitzeproduktion verschwunden."
   ]
  }
 ],
 "metadata": {
  "kernelspec": {
   "display_name": "Python 3",
   "language": "python",
   "name": "python3"
  },
  "language_info": {
   "codemirror_mode": {
    "name": "ipython",
    "version": 3
   },
   "file_extension": ".py",
   "mimetype": "text/x-python",
   "name": "python",
   "nbconvert_exporter": "python",
   "pygments_lexer": "ipython3",
   "version": "3.7.5rc1"
  }
 },
 "nbformat": 4,
 "nbformat_minor": 4
}
