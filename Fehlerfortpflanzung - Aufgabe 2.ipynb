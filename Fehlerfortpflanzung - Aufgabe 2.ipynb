{
 "cells": [
  {
   "cell_type": "markdown",
   "metadata": {},
   "source": [
    "# Aufgabe zur Fehlerfortpflanzung "
   ]
  },
  {
   "cell_type": "markdown",
   "metadata": {},
   "source": [
    "Technische Universität Berlin, Straße des 17. Juni 135, 10623 Berlin, Deutschland\n",
    "\n",
    "---\n",
    "\n",
    "**Clarissa Pinheiro** (Kurs 348T)\n",
    "\n",
    "E-mail: cvpinheiro13@gmail.com\n",
    "\n",
    "**Sofía Rodríguez** (Kurs 348T)\n",
    "\n",
    "E-mail: sofiaerb@hotmail.com\n",
    "\n",
    "**Vasu Seghal** (Kurs 348T)\n",
    "\n",
    "E-mail: vasusehgal10611@gmail.com \n",
    "\n",
    "**Allan A. Zea** (Kurs 348T)\n",
    "\n",
    "E-mail: zealobo@campus.tu-berlin.de\n",
    "\n",
    "---"
   ]
  },
  {
   "cell_type": "markdown",
   "metadata": {},
   "source": [
    "### Beschreibung"
   ]
  },
  {
   "cell_type": "markdown",
   "metadata": {},
   "source": [
    "Eine kleine Kugel wird auf einer Kreisbahn mit konstanter Winkelbeschleunigung $\\epsilon$ beschleunigt. Zur Zeit $t=0$ befindet sie sich unter dem Winkel $\\phi_0$ im Punkt (0) und hat hier die Winkelgeschwindigkeit $\\omega_0$. Es wurde gemessen:\n",
    "\n",
    "$$\\ddot{\\phi}(0)=\\epsilon\\pm\\Delta\\epsilon=\\left(\\frac{\\pi}{2}\\pm0\\right)s^{-2}$$\n",
    "\n",
    "$$\\dot{\\phi}(0)=\\omega_0\\pm\\Delta\\omega_0=\\left(\\frac{\\pi}{2}\\pm0,05\\right)s^{-1}$$\n",
    "\n",
    "$$\\phi(0)=\\phi_0\\pm\\Delta\\phi_0=\\left(\\frac{\\pi}{6}\\pm0,01\\right)$$\n",
    "\n",
    "---"
   ]
  },
  {
   "cell_type": "markdown",
   "metadata": {},
   "source": [
    "**Aufgabe (a).** Stellen Sie die Bewegungsgleichungen auf und zeigen Sie, dass der Winkel $\\phi_1 = 2\\pi$ nach der Zeit\n",
    "\n",
    "$$T_1=-\\frac{\\omega_0}{\\epsilon}+\\sqrt{\\left(\\frac{\\omega_0}{\\epsilon}\\right)^2+(2\\pi-\\phi_0)\\frac{2}{\\epsilon}}=\\left(-1+\\frac{5}{\\sqrt{3}}\\right)~\\textrm{s}\\approx 1,8868~\\textrm{s}$$\n",
    "\n",
    "erreicht wird."
   ]
  },
  {
   "cell_type": "markdown",
   "metadata": {},
   "source": [
    "**Lösung.** Hier möchten wir die Zeit $T_f$ finden, für die gilt $\\phi(T_f)=2\\pi$. Man merkt, dass\n",
    "\n",
    "$$\\phi(T_f)=\\frac{\\pi}{4}T_f^2\\mathrm{s}^{-2}+\\frac{\\pi}{2}T_f\\mathrm{s}^{-1}+\\frac{\\pi}{6}=2\\pi.$$\n",
    "\n",
    "Wenn man $2\\pi$ auf beiden Seiten substrahiert und die resultierende Gleichung mit $12/\\pi$ multipliziert, ergibt sich die homogene Gleichung zweiten Grades $3T_f^2\\mathrm{s}^{-2}+6T_f\\mathrm{s}^{-1}-22=0$ mit der Lösung $T_f\\approx1,8868\\textrm{s}$.\n",
    "\n",
    "---"
   ]
  },
  {
   "cell_type": "markdown",
   "metadata": {},
   "source": [
    "**Aufgabe (b).** Berechnen Sie mit den Gesetzen der Fehlerfortpflanzung den maximalen Fehler von $T_1$."
   ]
  },
  {
   "cell_type": "markdown",
   "metadata": {},
   "source": [
    "**Lösung.** Für den maximalen Fehler muss gelten $\\Delta T_1=\\Delta\\left(\\frac{\\omega_0}{\\epsilon}\\right)+\\Delta\\left(\\sqrt{\\left(\\frac{\\omega_0}{\\epsilon}\\right)^2+(2\\pi-\\phi_0)\\frac{2}{\\epsilon}}\\right)$. Wir betrachten die Fehler der beiden Terme getrennt."
   ]
  },
  {
   "cell_type": "markdown",
   "metadata": {},
   "source": [
    "Aus dem ersten Term ergibt sich:\n",
    "\n",
    "$$\n",
    "\\begin{aligned}\n",
    "  \\Delta\\left(\\frac{\\omega_0}{\\epsilon}\\right) &= \\delta\\left(\\frac{\\omega_0}{\\epsilon}\\right)\\cdot\\frac{\\omega_0}{\\epsilon}\\\\\n",
    "  &=(\\delta\\omega_0+\\delta\\epsilon)\\cdot\\frac{\\omega_0}{\\epsilon}\\\\\n",
    "  &=\\left(\\frac{\\Delta\\omega_0}{\\omega_0}+\\frac{\\Delta\\epsilon}{\\epsilon}\\right)\\cdot\\frac{\\omega_0}{\\epsilon}\\approx 0,0318.\n",
    "\\end{aligned}\n",
    "$$"
   ]
  },
  {
   "cell_type": "markdown",
   "metadata": {},
   "source": [
    "---"
   ]
  },
  {
   "cell_type": "markdown",
   "metadata": {},
   "source": [
    "**Aufgabe (c).** Berechnen Sie mit den Gesetzen der Fehlerfortpflanzung den wahrscheinlichen Fehler von $T_1$ nach Gauss."
   ]
  },
  {
   "cell_type": "markdown",
   "metadata": {},
   "source": [
    "**Lösung.** Zur Bestimmung des wahrscheinlichen Fehlers von $T_1$ berechnen wir zunächst die partielle Ableitungen von $T_1$ bezüglich $\\epsilon$, $\\omega_0$ und $\\phi_0$:"
   ]
  },
  {
   "cell_type": "markdown",
   "metadata": {},
   "source": [
    "$$\n",
    "\\begin{aligned}\n",
    "    \\frac{\\partial T_1}{\\partial \\epsilon}&=\\frac{\\omega_0}{\\epsilon^2}-\\frac{2\\frac{\\omega_0^2}{\\epsilon^3}+(2\\pi-\\phi_0)\\frac{2}{\\epsilon^2}}{2\\sqrt{\\left(\\frac{\\omega_0}{\\epsilon}\\right)^2+(2\\pi-\\phi_0)\\frac{2}{\\epsilon}}} =\\left[\\frac{\\pi}{2}-\\frac{\\sqrt{3}}{10}\\left(2\\cdot\\frac{2}{\\pi}+\\frac{11\\pi}{6}\\cdot\\frac{8}{\\pi^2}\\right)\\right]\\mathrm{s}^3\\approx 0,5416\\mathrm{s}^3,\n",
    "\\end{aligned}\n",
    "$$"
   ]
  },
  {
   "cell_type": "markdown",
   "metadata": {},
   "source": [
    "$$\n",
    "\\begin{aligned}\n",
    "    \\frac{\\partial T_1}{\\partial \\omega_0} &= \\frac{\\omega_0}{\\epsilon^2\\sqrt{\\left(\\frac{\\omega_0}{\\epsilon}\\right)^2+(2\\pi-\\phi_0)\\frac{2}{\\epsilon}}}-\\frac{1}{\\epsilon}=\\left(\\frac{\\sqrt{3}}{10}\\cdot\\frac{4}{\\pi}-\\frac{2}{\\pi}\\right)\\mathrm{s}^2\\approx -0,4160\\mathrm{s}^2,\n",
    "\\end{aligned}\n",
    "$$"
   ]
  },
  {
   "cell_type": "markdown",
   "metadata": {},
   "source": [
    "$$\n",
    "\\begin{aligned}\n",
    "\\frac{\\partial T_1}{\\partial \\phi_0} &=  -\\frac{1}{\\epsilon\\sqrt{\\left(\\frac{\\omega_0}{\\epsilon}\\right)^2+(2\\pi-\\phi_0)\\frac{2}{\\epsilon}}}=\\frac{\\sqrt{3}}{10}\\cdot\\left(-\\frac{4}{\\pi}\\right)\\mathrm{s}\\approx -0,2205\\mathrm{s}.\n",
    "\\end{aligned}\n",
    "$$"
   ]
  },
  {
   "cell_type": "markdown",
   "metadata": {},
   "source": [
    "Nach Einsetzen von ${\\partial T_1}/{\\partial \\epsilon}$, ${\\partial T_1}/{\\partial \\omega_0}$ und ${\\partial T_1}/{\\partial \\phi_0}$ in die Formel von Gauß sieht man\n",
    "\n",
    "$$\n",
    "\\Delta T_1=\\sqrt{\n",
    "\\left(\\frac{\\partial T_1}{\\partial \\epsilon}\\cdot\\Delta\\epsilon\\right)^2\n",
    "+ \\left(\\frac{\\partial T_1}{\\partial \\omega_0}\\cdot\\Delta\\omega_0\\right)^2\n",
    "+ \\left(\\frac{\\partial T_1}{\\partial \\phi_0}\\cdot\\Delta\\phi_0\\right)^2\n",
    "}\\approx 0,0209\\textrm{s}.\n",
    "$$"
   ]
  },
  {
   "cell_type": "code",
   "execution_count": null,
   "metadata": {},
   "outputs": [],
   "source": []
  }
 ],
 "metadata": {
  "kernelspec": {
   "display_name": "R",
   "language": "R",
   "name": "ir"
  },
  "language_info": {
   "codemirror_mode": "r",
   "file_extension": ".r",
   "mimetype": "text/x-r-source",
   "name": "R",
   "pygments_lexer": "r",
   "version": "3.4.4"
  }
 },
 "nbformat": 4,
 "nbformat_minor": 2
}
