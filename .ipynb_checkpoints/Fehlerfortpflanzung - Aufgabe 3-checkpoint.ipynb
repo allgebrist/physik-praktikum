{
 "cells": [
  {
   "cell_type": "markdown",
   "metadata": {},
   "source": [
    "# Das Federpendel (Auswertung mit EDV)"
   ]
  },
  {
   "cell_type": "markdown",
   "metadata": {},
   "source": [
    "Technische Universität Berlin, Straße des 17. Juni 135, 10623 Berlin, Deutschland\n",
    "\n",
    "---\n",
    "\n",
    "**Clarissa Pinheiro** (Kurs 348T)\n",
    "\n",
    "E-mail: cvpinheiro13@gmail.com\n",
    "\n",
    "**Sofía Rodríguez** (Kurs 348T)\n",
    "\n",
    "E-mail: sofiaerb@hotmail.com\n",
    "\n",
    "**Vasu Seghal** (Kurs 348T)\n",
    "\n",
    "E-mail: vasusehgal10611@gmail.com \n",
    "\n",
    "**Allan A. Zea** (Kurs 348T)\n",
    "\n",
    "E-mail: zealobo@campus.tu-berlin.de\n",
    "\n",
    "---"
   ]
  },
  {
   "cell_type": "markdown",
   "metadata": {},
   "source": [
    "### Beschreibung"
   ]
  },
  {
   "cell_type": "markdown",
   "metadata": {},
   "source": [
    "Eines der bekanntesten Beispiele für harmonische Oszillatoren in der Physik ist das sogenannte Federpendel. Ein Federpendel besteht aus einer Schraubenfeder mit der Federkonstanten $c$ und einem daran befestigten Massestück $m$. Wird das System einmal angeregt, beginnt eine harmonische Schwingung um die Ruhelage. Wir wissen, dass für die Schwingungsdauer (die Zeit für eine Periode) $T=2\\pi\\sqrt{\\frac{m}{c}}$ gelten muss.\n",
    "\n",
    "Mithilfe einer Tabelle, die mehrere Messungen von 30-Perioden-Gruppen beinthaltet, werden wir hier Mittelwert und Fehler des Mittelwerts tabellarisch berechnen, eine Fehlerfortpflanzung durchführen und die entsprechenden Graphen anfertigen.\n",
    "\n",
    "---"
   ]
  },
  {
   "cell_type": "markdown",
   "metadata": {},
   "source": [
    "Zunächst laden wir die Daten von unserem Github-Verzeichnis, welches unter [dieser Webseite](https://github.com/allgebrist/studienkolleg-physik-praktikum) zu finden ist."
   ]
  },
  {
   "cell_type": "code",
   "execution_count": 1,
   "metadata": {
    "scrolled": false
   },
   "outputs": [
    {
     "name": "stdout",
     "output_type": "stream",
     "text": [
      " num [1:11, 1:4] 0.05 9.72 10.49 10.1 9.98 ...\n",
      " - attr(*, \"dimnames\")=List of 2\n",
      "  ..$ : chr [1:11] \"Masse.kg\" \"T30.1\" \"T30.2\" \"T30.3\" ...\n",
      "  ..$ : NULL\n"
     ]
    },
    {
     "data": {
      "text/html": [
       "<table>\n",
       "<caption>A matrix: 11 × 4 of type dbl</caption>\n",
       "<tbody>\n",
       "\t<tr><th scope=row>Masse.kg</th><td> 0.05</td><td> 0.15</td><td> 0.20</td><td> 0.30</td></tr>\n",
       "\t<tr><th scope=row>T30.1</th><td> 9.72</td><td>13.32</td><td>16.45</td><td>18.83</td></tr>\n",
       "\t<tr><th scope=row>T30.2</th><td>10.49</td><td>14.71</td><td>15.16</td><td>18.69</td></tr>\n",
       "\t<tr><th scope=row>T30.3</th><td>10.10</td><td>14.00</td><td>15.59</td><td>18.83</td></tr>\n",
       "\t<tr><th scope=row>T30.4</th><td> 9.98</td><td>13.84</td><td>15.68</td><td>17.96</td></tr>\n",
       "\t<tr><th scope=row>T30.5</th><td>10.34</td><td>13.94</td><td>15.70</td><td>19.02</td></tr>\n",
       "\t<tr><th scope=row>T30.6</th><td>10.00</td><td>13.55</td><td>15.43</td><td>17.83</td></tr>\n",
       "\t<tr><th scope=row>T30.7</th><td>10.00</td><td>13.89</td><td>16.03</td><td>18.96</td></tr>\n",
       "\t<tr><th scope=row>T30.8</th><td>   NA</td><td>   NA</td><td>15.70</td><td>18.83</td></tr>\n",
       "\t<tr><th scope=row>T30.9</th><td>   NA</td><td>   NA</td><td>   NA</td><td>18.93</td></tr>\n",
       "\t<tr><th scope=row>T30.10</th><td>   NA</td><td>   NA</td><td>   NA</td><td>18.87</td></tr>\n",
       "</tbody>\n",
       "</table>\n"
      ],
      "text/latex": [
       "A matrix: 11 × 4 of type dbl\n",
       "\\begin{tabular}{r|llll}\n",
       "\tMasse.kg &  0.05 &  0.15 &  0.20 &  0.30\\\\\n",
       "\tT30.1 &  9.72 & 13.32 & 16.45 & 18.83\\\\\n",
       "\tT30.2 & 10.49 & 14.71 & 15.16 & 18.69\\\\\n",
       "\tT30.3 & 10.10 & 14.00 & 15.59 & 18.83\\\\\n",
       "\tT30.4 &  9.98 & 13.84 & 15.68 & 17.96\\\\\n",
       "\tT30.5 & 10.34 & 13.94 & 15.70 & 19.02\\\\\n",
       "\tT30.6 & 10.00 & 13.55 & 15.43 & 17.83\\\\\n",
       "\tT30.7 & 10.00 & 13.89 & 16.03 & 18.96\\\\\n",
       "\tT30.8 &    NA &    NA & 15.70 & 18.83\\\\\n",
       "\tT30.9 &    NA &    NA &    NA & 18.93\\\\\n",
       "\tT30.10 &    NA &    NA &    NA & 18.87\\\\\n",
       "\\end{tabular}\n"
      ],
      "text/markdown": [
       "\n",
       "A matrix: 11 × 4 of type dbl\n",
       "\n",
       "| Masse.kg |  0.05 |  0.15 |  0.20 |  0.30 |\n",
       "| T30.1 |  9.72 | 13.32 | 16.45 | 18.83 |\n",
       "| T30.2 | 10.49 | 14.71 | 15.16 | 18.69 |\n",
       "| T30.3 | 10.10 | 14.00 | 15.59 | 18.83 |\n",
       "| T30.4 |  9.98 | 13.84 | 15.68 | 17.96 |\n",
       "| T30.5 | 10.34 | 13.94 | 15.70 | 19.02 |\n",
       "| T30.6 | 10.00 | 13.55 | 15.43 | 17.83 |\n",
       "| T30.7 | 10.00 | 13.89 | 16.03 | 18.96 |\n",
       "| T30.8 |    NA |    NA | 15.70 | 18.83 |\n",
       "| T30.9 |    NA |    NA |    NA | 18.93 |\n",
       "| T30.10 |    NA |    NA |    NA | 18.87 |\n",
       "\n"
      ],
      "text/plain": [
       "         [,1]  [,2]  [,3]  [,4] \n",
       "Masse.kg  0.05  0.15  0.20  0.30\n",
       "T30.1     9.72 13.32 16.45 18.83\n",
       "T30.2    10.49 14.71 15.16 18.69\n",
       "T30.3    10.10 14.00 15.59 18.83\n",
       "T30.4     9.98 13.84 15.68 17.96\n",
       "T30.5    10.34 13.94 15.70 19.02\n",
       "T30.6    10.00 13.55 15.43 17.83\n",
       "T30.7    10.00 13.89 16.03 18.96\n",
       "T30.8       NA    NA 15.70 18.83\n",
       "T30.9       NA    NA    NA 18.93\n",
       "T30.10      NA    NA    NA 18.87"
      ]
     },
     "metadata": {},
     "output_type": "display_data"
    }
   ],
   "source": [
    "library(scales)\n",
    "library(ggplot2)\n",
    "\n",
    "fp_tabelle <- t(read.csv('Daten/federpendelmess.csv', header = TRUE, sep = \",\"))\n",
    "str(fp_tabelle) \n",
    "fp_tabelle"
   ]
  },
  {
   "cell_type": "markdown",
   "metadata": {},
   "source": [
    "Wir wollen natürlich alle unseren Berechnungen durchführen, ohne die fehlenden Werte (sog. 'NA') mit zu berücksichtigen. Diesem Ziel dient die untere Anweisung. Dabei werden z.B. alle Werte der dritten Spalte außer den Fehlenden gezeigt."
   ]
  },
  {
   "cell_type": "code",
   "execution_count": 2,
   "metadata": {
    "scrolled": true
   },
   "outputs": [
    {
     "data": {
      "text/html": [
       "<style>\n",
       ".dl-inline {width: auto; margin:0; padding: 0}\n",
       ".dl-inline>dt, .dl-inline>dd {float: none; width: auto; display: inline-block}\n",
       ".dl-inline>dt::after {content: \":\\0020\"; padding-right: .5ex}\n",
       ".dl-inline>dt:not(:first-of-type) {padding-left: .5ex}\n",
       "</style><dl class=dl-inline><dt>T30.1</dt><dd>16.45</dd><dt>T30.2</dt><dd>15.16</dd><dt>T30.3</dt><dd>15.59</dd><dt>T30.4</dt><dd>15.68</dd><dt>T30.5</dt><dd>15.7</dd><dt>T30.6</dt><dd>15.43</dd><dt>T30.7</dt><dd>16.03</dd><dt>T30.8</dt><dd>15.7</dd></dl>\n"
      ],
      "text/latex": [
       "\\begin{description*}\n",
       "\\item[T30.1] 16.45\n",
       "\\item[T30.2] 15.16\n",
       "\\item[T30.3] 15.59\n",
       "\\item[T30.4] 15.68\n",
       "\\item[T30.5] 15.7\n",
       "\\item[T30.6] 15.43\n",
       "\\item[T30.7] 16.03\n",
       "\\item[T30.8] 15.7\n",
       "\\end{description*}\n"
      ],
      "text/markdown": [
       "T30.1\n",
       ":   16.45T30.2\n",
       ":   15.16T30.3\n",
       ":   15.59T30.4\n",
       ":   15.68T30.5\n",
       ":   15.7T30.6\n",
       ":   15.43T30.7\n",
       ":   16.03T30.8\n",
       ":   15.7\n",
       "\n"
      ],
      "text/plain": [
       "T30.1 T30.2 T30.3 T30.4 T30.5 T30.6 T30.7 T30.8 \n",
       "16.45 15.16 15.59 15.68 15.70 15.43 16.03 15.70 "
      ]
     },
     "metadata": {},
     "output_type": "display_data"
    }
   ],
   "source": [
    "# Mit dieser Anweisung bekommen wir alle Werte in\n",
    "# der dritten Spalte, deren Wert ungleich 'NA' ist.\n",
    "fp_tabelle[(which(fp_tabelle[2:11,3] != 'NA')+1), 3]"
   ]
  },
  {
   "cell_type": "markdown",
   "metadata": {},
   "source": [
    "Wir sind jetzt in der Lage, die Länge, den Mittelwert und die Standardabweichung für jede Datenmenge dieser Versuche zu ermitteln. "
   ]
  },
  {
   "cell_type": "code",
   "execution_count": 3,
   "metadata": {
    "scrolled": true
   },
   "outputs": [],
   "source": [
    "laenge <- c()\n",
    "mittelwerte <- c()\n",
    "standard_abweichungen <- c()\n",
    "\n",
    "for (k in 1:4) { \n",
    "  messungen <- c(fp_tabelle[(which(fp_tabelle[2:11, k] != 'NA')+1), k])\n",
    "  laenge <- c(laenge, length(messungen))\n",
    "  mittelwerte <- c(mittelwerte, mean(messungen))\n",
    "  standard_abweichungen <- c(standard_abweichungen, sd(messungen))\n",
    "}"
   ]
  },
  {
   "cell_type": "markdown",
   "metadata": {},
   "source": [
    "Weil die Tabelle Messungen von 30 Periodendauern zeigt, müssen wir die Ergebnisse vom letzten Schritt erst mal durch 30 teilen, um die Fehler der Mittelwerte und die relative Fehler ausrechnen zu können."
   ]
  },
  {
   "cell_type": "code",
   "execution_count": 4,
   "metadata": {
    "scrolled": true
   },
   "outputs": [
    {
     "name": "stdout",
     "output_type": "stream",
     "text": [
      "\n",
      " Mittelwerte:   0.3363333  0.4630952  0.5239167  0.6225\n",
      " Standardabweichungen:   0.008474362  0.01446543  0.01288502  0.0140583\n",
      " Fehler der Mittelwerte:   0.001210623  0.00206649  0.001610628  0.00140583\n",
      " Relative Fehler:   0.360%  0.446%  0.307%  0.226%"
     ]
    }
   ],
   "source": [
    "mittelwerte <- mittelwerte / 30\n",
    "standard_abweichungen <- standard_abweichungen / 30\n",
    "\n",
    "fehler_mittel <- standard_abweichungen / laenge\n",
    "rel_fehler <- fehler_mittel / mittelwerte\n",
    "\n",
    "cat(\"\\n Mittelwerte: \", mittelwerte, sep = \"  \")\n",
    "cat(\"\\n Standardabweichungen: \", standard_abweichungen, sep = \"  \")\n",
    "cat(\"\\n Fehler der Mittelwerte: \", fehler_mittel, sep = \"  \")\n",
    "cat(\"\\n Relative Fehler: \", percent(rel_fehler), sep = \"  \")"
   ]
  },
  {
   "cell_type": "code",
   "execution_count": 5,
   "metadata": {
    "scrolled": true
   },
   "outputs": [
    {
     "name": "stdout",
     "output_type": "stream",
     "text": [
      "\n",
      " T1^2:   0.1131201  0.2144572  0.2744887  0.3875063\n",
      " dT1^2:   0.0008143459  0.001913963  0.00168767  0.001750258\n",
      " rel. T1^2:   0.720%  0.892%  0.615%  0.452%"
     ]
    }
   ],
   "source": [
    "per <- mittelwerte^2\n",
    "cat(\"\\n T1^2: \", per, sep = \"  \")\n",
    "cat(\"\\n dT1^2: \", 2*rel_fehler*(per), sep = \"  \")\n",
    "cat(\"\\n rel. T1^2: \", percent(2*rel_fehler*(mittelwerte^2)/per), sep = \"  \")"
   ]
  },
  {
   "cell_type": "markdown",
   "metadata": {},
   "source": [
    "---\n",
    "\n",
    "### Grafik für $T^2(m)$"
   ]
  },
  {
   "cell_type": "code",
   "execution_count": 6,
   "metadata": {},
   "outputs": [
    {
     "data": {
      "text/plain": [
       "\n",
       "Call:\n",
       "lm(formula = periode ~ masse, data = df_1)\n",
       "\n",
       "Coefficients:\n",
       "(Intercept)        masse  \n",
       "    0.05463      1.10151  \n"
      ]
     },
     "metadata": {},
     "output_type": "display_data"
    },
    {
     "name": "stderr",
     "output_type": "stream",
     "text": [
      "Warning message in is.na(x):\n",
      "“is.na() applied to non-(list or vector) of type 'expression'”\n"
     ]
    },
    {
     "data": {
      "image/png": "[encoded data removed]",
      "text/plain": [
       "plot without title"
      ]
     },
     "metadata": {
      "image/png": {
       "height": 420,
       "width": 420
      }
     },
     "output_type": "display_data"
    }
   ],
   "source": [
    "df_1 <- data.frame(masse = c(0.05, 0.15, 0.20, 0.30), periode = mittelwerte^2)\n",
    "\n",
    "# Bestimmung von Steigung und T^2-Achsenabschnitt\n",
    "# durch eine einfache lineare Regression\n",
    "lr_1 <- lm(data = df_1, formula = periode ~ masse)\n",
    "lr_1\n",
    "\n",
    "p_1 <- ggplot(data = df_1, aes(x = masse, y = periode)) + \n",
    "       geom_line() + \n",
    "       geom_point() +\n",
    "       geom_smooth(method = \"lm\", se = FALSE, color = \"black\", formula = y ~ x) +\n",
    "       geom_text(x = 0.15, y = 0.35, label = expression(T^2==1.101~m+0.054), size = 6, parse = TRUE) +\n",
    "       geom_errorbar(aes(ymin = periode - standard_abweichungen, \n",
    "                         ymax = periode + standard_abweichungen),\n",
    "                     width = 0.03*c(0.05, 0.15, 0.20, 0.30))\n",
    "\n",
    "p_1 + labs(x = expression(m), y = expression(T^2)) + theme_grey(base_size = 22)"
   ]
  },
  {
   "cell_type": "markdown",
   "metadata": {},
   "source": [
    "---\n",
    "\n",
    "### Grafik für $T(\\sqrt{m})$"
   ]
  },
  {
   "cell_type": "code",
   "execution_count": 7,
   "metadata": {},
   "outputs": [
    {
     "data": {
      "text/plain": [
       "\n",
       "Call:\n",
       "lm(formula = periode ~ masse, data = df_2)\n",
       "\n",
       "Coefficients:\n",
       "(Intercept)        masse  \n",
       "     0.1334       0.8793  \n"
      ]
     },
     "metadata": {},
     "output_type": "display_data"
    },
    {
     "name": "stderr",
     "output_type": "stream",
     "text": [
      "Warning message in is.na(x):\n",
      "“is.na() applied to non-(list or vector) of type 'expression'”\n"
     ]
    },
    {
     "data": {
      "image/png": "[encoded data removed]",
      "text/plain": [
       "plot without title"
      ]
     },
     "metadata": {
      "image/png": {
       "height": 420,
       "width": 420
      }
     },
     "output_type": "display_data"
    }
   ],
   "source": [
    "df_2 <- data.frame(masse = sqrt(c(0.05, 0.15, 0.20, 0.30)), periode = mittelwerte)\n",
    "\n",
    "# Bestimmung von Steigung und T-Achsenabschnitt\n",
    "# durch eine einfache lineare Regression\n",
    "lr_2 <- lm(data = df_2, formula = periode ~ masse)\n",
    "lr_2\n",
    "\n",
    "p_2 <- ggplot(data = df_2, aes(x = masse, y = periode)) + \n",
    "       geom_line() + \n",
    "       geom_point() +\n",
    "       geom_smooth(method = \"lm\", se = FALSE, color = \"black\", formula = y ~ x) +\n",
    "       geom_text(x = 0.3, y = 0.55, label = expression(T==0.879~sqrt(m)+0.133), size = 6, parse = TRUE) +\n",
    "       geom_errorbar(aes(ymin = periode - standard_abweichungen, \n",
    "                         ymax = periode + standard_abweichungen),\n",
    "                     width = 0.03*c(0.05, 0.15, 0.20, 0.30))\n",
    "\n",
    "p_2 + labs(x = expression(sqrt(m)), y = expression(T)) + theme_grey(base_size = 22)"
   ]
  },
  {
   "cell_type": "markdown",
   "metadata": {},
   "source": [
    "---"
   ]
  },
  {
   "cell_type": "markdown",
   "metadata": {},
   "source": [
    "**Bemerkung:** Am Anfang der Auswertung hätten wir auch die Ausreißer aus der Datenmenge entfernen können. Doch wir merkten, dass ihrer Einfluss auf die Endergebnisse in unserem Beispiel nicht besonders stark war. Wir versuchten, die Tabelle zu bereinigen wie unten gezeigt. Am Ende waren aber nur wenige Datenpunkte vorhanden für die Analyse und die resultierenden Darstellungen ziemlich ungenau. Da die Steigungen und Achsenabschnitte nicht sehr unterschiedlich waren, entschieden wir uns, alle Werte so zu lassen, wie sie in der Tabelle vorkommen."
   ]
  },
  {
   "cell_type": "markdown",
   "metadata": {},
   "source": [
    "```\n",
    "fp_tabelle[which(fp_tabelle[2:11, 1] < 9.8)+1, 1] <- NA\n",
    "fp_tabelle[which(fp_tabelle[2:11, 2] < 13.6)+1, 2] <- NA\n",
    "fp_tabelle[which(fp_tabelle[2:11, 2] > 14.5)+1, 2] <- NA\n",
    "fp_tabelle[which(fp_tabelle[2:11, 3] > 16)+1, 3] <- NA\n",
    "fp_tabelle[which(fp_tabelle[2:11, 3] < 1)+1, 3] <- NA\n",
    "fp_tabelle[which(fp_tabelle[2:11, 4] < 18)+1, 4] <- NA\n",
    "\n",
    "fp_tabelle\n",
    "```"
   ]
  },
  {
   "cell_type": "markdown",
   "metadata": {},
   "source": [
    "---"
   ]
  },
  {
   "cell_type": "markdown",
   "metadata": {},
   "source": [
    "## Zusatz: Auswertung ohne Ausreißer"
   ]
  },
  {
   "cell_type": "code",
   "execution_count": 8,
   "metadata": {},
   "outputs": [
    {
     "data": {
      "text/html": [
       "<table>\n",
       "<caption>A matrix: 11 × 4 of type dbl</caption>\n",
       "<tbody>\n",
       "\t<tr><th scope=row>Masse.kg</th><td> 0.05</td><td> 0.15</td><td> 0.20</td><td> 0.30</td></tr>\n",
       "\t<tr><th scope=row>T30.1</th><td>   NA</td><td>   NA</td><td>   NA</td><td>18.83</td></tr>\n",
       "\t<tr><th scope=row>T30.2</th><td>10.49</td><td>   NA</td><td>15.16</td><td>18.69</td></tr>\n",
       "\t<tr><th scope=row>T30.3</th><td>10.10</td><td>14.00</td><td>15.59</td><td>18.83</td></tr>\n",
       "\t<tr><th scope=row>T30.4</th><td> 9.98</td><td>13.84</td><td>15.68</td><td>   NA</td></tr>\n",
       "\t<tr><th scope=row>T30.5</th><td>10.34</td><td>13.94</td><td>15.70</td><td>19.02</td></tr>\n",
       "\t<tr><th scope=row>T30.6</th><td>10.00</td><td>   NA</td><td>15.43</td><td>   NA</td></tr>\n",
       "\t<tr><th scope=row>T30.7</th><td>10.00</td><td>13.89</td><td>   NA</td><td>18.96</td></tr>\n",
       "\t<tr><th scope=row>T30.8</th><td>   NA</td><td>   NA</td><td>15.70</td><td>18.83</td></tr>\n",
       "\t<tr><th scope=row>T30.9</th><td>   NA</td><td>   NA</td><td>   NA</td><td>18.93</td></tr>\n",
       "\t<tr><th scope=row>T30.10</th><td>   NA</td><td>   NA</td><td>   NA</td><td>18.87</td></tr>\n",
       "</tbody>\n",
       "</table>\n"
      ],
      "text/latex": [
       "A matrix: 11 × 4 of type dbl\n",
       "\\begin{tabular}{r|llll}\n",
       "\tMasse.kg &  0.05 &  0.15 &  0.20 &  0.30\\\\\n",
       "\tT30.1 &    NA &    NA &    NA & 18.83\\\\\n",
       "\tT30.2 & 10.49 &    NA & 15.16 & 18.69\\\\\n",
       "\tT30.3 & 10.10 & 14.00 & 15.59 & 18.83\\\\\n",
       "\tT30.4 &  9.98 & 13.84 & 15.68 &    NA\\\\\n",
       "\tT30.5 & 10.34 & 13.94 & 15.70 & 19.02\\\\\n",
       "\tT30.6 & 10.00 &    NA & 15.43 &    NA\\\\\n",
       "\tT30.7 & 10.00 & 13.89 &    NA & 18.96\\\\\n",
       "\tT30.8 &    NA &    NA & 15.70 & 18.83\\\\\n",
       "\tT30.9 &    NA &    NA &    NA & 18.93\\\\\n",
       "\tT30.10 &    NA &    NA &    NA & 18.87\\\\\n",
       "\\end{tabular}\n"
      ],
      "text/markdown": [
       "\n",
       "A matrix: 11 × 4 of type dbl\n",
       "\n",
       "| Masse.kg |  0.05 |  0.15 |  0.20 |  0.30 |\n",
       "| T30.1 |    NA |    NA |    NA | 18.83 |\n",
       "| T30.2 | 10.49 |    NA | 15.16 | 18.69 |\n",
       "| T30.3 | 10.10 | 14.00 | 15.59 | 18.83 |\n",
       "| T30.4 |  9.98 | 13.84 | 15.68 |    NA |\n",
       "| T30.5 | 10.34 | 13.94 | 15.70 | 19.02 |\n",
       "| T30.6 | 10.00 |    NA | 15.43 |    NA |\n",
       "| T30.7 | 10.00 | 13.89 |    NA | 18.96 |\n",
       "| T30.8 |    NA |    NA | 15.70 | 18.83 |\n",
       "| T30.9 |    NA |    NA |    NA | 18.93 |\n",
       "| T30.10 |    NA |    NA |    NA | 18.87 |\n",
       "\n"
      ],
      "text/plain": [
       "         [,1]  [,2]  [,3]  [,4] \n",
       "Masse.kg  0.05  0.15  0.20  0.30\n",
       "T30.1       NA    NA    NA 18.83\n",
       "T30.2    10.49    NA 15.16 18.69\n",
       "T30.3    10.10 14.00 15.59 18.83\n",
       "T30.4     9.98 13.84 15.68    NA\n",
       "T30.5    10.34 13.94 15.70 19.02\n",
       "T30.6    10.00    NA 15.43    NA\n",
       "T30.7    10.00 13.89    NA 18.96\n",
       "T30.8       NA    NA 15.70 18.83\n",
       "T30.9       NA    NA    NA 18.93\n",
       "T30.10      NA    NA    NA 18.87"
      ]
     },
     "metadata": {},
     "output_type": "display_data"
    },
    {
     "name": "stdout",
     "output_type": "stream",
     "text": [
      "\n",
      " Mittelwerte:   0.3383889  0.4639167  0.5181111  0.629\n",
      " Standardabweichungen:   0.007119353  0.002283191  0.007145058  0.003366502\n",
      " Fehler der Mittelwerte:   0.001186559  0.0005707978  0.001190843  0.0004208127\n",
      " Relative Fehler:   0.351%  0.123%  0.230%  0.067%"
     ]
    },
    {
     "data": {
      "text/plain": [
       "\n",
       "Call:\n",
       "lm(formula = periode ~ masse, data = df)\n",
       "\n",
       "Coefficients:\n",
       "(Intercept)        masse  \n",
       "    0.05206      1.12222  \n"
      ]
     },
     "metadata": {},
     "output_type": "display_data"
    },
    {
     "name": "stderr",
     "output_type": "stream",
     "text": [
      "Warning message in is.na(x):\n",
      "“is.na() applied to non-(list or vector) of type 'expression'”\n"
     ]
    },
    {
     "data": {
      "text/plain": [
       "\n",
       "Call:\n",
       "lm(formula = periode ~ masse, data = df)\n",
       "\n",
       "Coefficients:\n",
       "(Intercept)        masse  \n",
       "     0.1321       0.8849  \n"
      ]
     },
     "metadata": {},
     "output_type": "display_data"
    },
    {
     "name": "stderr",
     "output_type": "stream",
     "text": [
      "Warning message in is.na(x):\n",
      "“is.na() applied to non-(list or vector) of type 'expression'”\n"
     ]
    },
    {
     "data": {
      "image/png": "[encoded data removed]",
      "text/plain": [
       "plot without title"
      ]
     },
     "metadata": {
      "image/png": {
       "height": 420,
       "width": 420
      }
     },
     "output_type": "display_data"
    },
    {
     "data": {
      "image/png": "[encoded data removed]",
      "text/plain": [
       "plot without title"
      ]
     },
     "metadata": {
      "image/png": {
       "height": 420,
       "width": 420
      }
     },
     "output_type": "display_data"
    }
   ],
   "source": [
    "fp_tabelle_2 <- fp_tabelle\n",
    "fp_tabelle_2[which(fp_tabelle_2[2:11, 1] < 9.8)+1, 1] <- NA\n",
    "fp_tabelle_2[which(fp_tabelle_2[2:11, 2] < 13.6)+1, 2] <- NA\n",
    "fp_tabelle_2[which(fp_tabelle_2[2:11, 2] > 14.5)+1, 2] <- NA\n",
    "fp_tabelle_2[which(fp_tabelle_2[2:11, 3] > 16)+1, 3] <- NA\n",
    "fp_tabelle_2[which(fp_tabelle_2[2:11, 3] < 1)+1, 3] <- NA\n",
    "fp_tabelle_2[which(fp_tabelle_2[2:11, 4] < 18)+1, 4] <- NA\n",
    "\n",
    "fp_tabelle_2\n",
    "\n",
    "\n",
    "\n",
    "laenge_2 <- c()\n",
    "mittelwerte_2 <- c()\n",
    "standard_abweichungen_2 <- c()\n",
    "\n",
    "for (k in 1:4) { \n",
    "  messungen_2 <- c(fp_tabelle_2[(which(fp_tabelle_2[2:11, k] != 'NA')+1), k])\n",
    "  laenge_2 <- c(laenge_2, length(messungen_2))\n",
    "  mittelwerte_2 <- c(mittelwerte_2, mean(messungen_2))\n",
    "  standard_abweichungen_2 <- c(standard_abweichungen_2, sd(messungen_2))\n",
    "}\n",
    "\n",
    "\n",
    "\n",
    "mittelwerte_2 <- mittelwerte_2 / 30\n",
    "standard_abweichungen_2 <- standard_abweichungen_2 / 30\n",
    "\n",
    "fehler_mittel_2 <- standard_abweichungen_2 / laenge_2\n",
    "rel_fehler_2 <- fehler_mittel_2 / mittelwerte_2\n",
    "\n",
    "cat(\"\\n Mittelwerte: \", mittelwerte_2, sep = \"  \")\n",
    "cat(\"\\n Standardabweichungen: \", standard_abweichungen_2, sep = \"  \")\n",
    "cat(\"\\n Fehler der Mittelwerte: \", fehler_mittel_2, sep = \"  \")\n",
    "cat(\"\\n Relative Fehler: \", percent(rel_fehler_2), sep = \"  \")\n",
    "\n",
    "\n",
    "\n",
    "df <- data.frame(masse = c(0.05, 0.15, 0.20, 0.30), periode = mittelwerte_2^2)\n",
    "\n",
    "# Bestimmung von Steigung und T^2-Achsenabschnitt\n",
    "# durch eine einfache lineare Regression\n",
    "lr <- lm(data = df, formula = periode ~ masse)\n",
    "lr\n",
    "\n",
    "p <- ggplot(data = df, aes(x = masse, y = periode)) + \n",
    "     geom_line() + \n",
    "     geom_point() +\n",
    "     geom_smooth(method = \"lm\", se = FALSE, color = \"black\", formula = y ~ x) +\n",
    "     geom_text(x = 0.15, y = 0.35, label = expression(T^2==1.122~m+0.052), size = 6, parse = TRUE) +\n",
    "     geom_errorbar(aes(ymin = periode - standard_abweichungen_2, \n",
    "                       ymax = periode + standard_abweichungen_2),\n",
    "                   width = 0.03*c(0.05, 0.15, 0.20, 0.30))\n",
    "\n",
    "p + labs(x = expression(m), y = expression(T^2)) + theme_grey(base_size = 22)\n",
    "\n",
    "\n",
    "\n",
    "df <- data.frame(masse = sqrt(c(0.05, 0.15, 0.20, 0.30)), periode = mittelwerte_2)\n",
    "\n",
    "# Bestimmung von Steigung und T-Achsenabschnitt\n",
    "# durch eine einfache lineare Regression\n",
    "lr <- lm(data = df, formula = periode ~ masse)\n",
    "lr\n",
    "\n",
    "p <- ggplot(data = df, aes(x = masse, y = periode)) + \n",
    "     geom_line() + \n",
    "     geom_point() +\n",
    "     geom_smooth(method = \"lm\", se = FALSE, color = \"black\", formula = y ~ x) +\n",
    "     geom_text(x = 0.3, y = 0.55, label = expression(T==0.884~sqrt(m)+0.132), size = 6, parse = TRUE) +\n",
    "     geom_errorbar(aes(ymin = periode - standard_abweichungen_2, \n",
    "                       ymax = periode + standard_abweichungen_2),\n",
    "                   width = 0.03*c(0.05, 0.15, 0.20, 0.30))\n",
    "\n",
    "p + labs(x = expression(sqrt(m)), y = expression(T)) + theme_grey(base_size = 22)"
   ]
  }
 ],
 "metadata": {
  "kernelspec": {
   "display_name": "R",
   "language": "R",
   "name": "ir"
  },
  "language_info": {
   "codemirror_mode": "r",
   "file_extension": ".r",
   "mimetype": "text/x-r-source",
   "name": "R",
   "pygments_lexer": "r",
   "version": "3.4.4"
  }
 },
 "nbformat": 4,
 "nbformat_minor": 2
}
